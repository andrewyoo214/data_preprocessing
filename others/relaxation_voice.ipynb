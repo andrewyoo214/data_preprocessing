{
 "cells": [
  {
   "cell_type": "markdown",
   "id": "e8f2b380-08a8-473a-a26d-529e64ac1d80",
   "metadata": {},
   "source": [
    "# Relaxation Effect Research"
   ]
  },
  {
   "cell_type": "code",
   "execution_count": 2,
   "id": "b6612347-248f-4f6a-8b24-634cc9a69a1b",
   "metadata": {},
   "outputs": [],
   "source": [
    "import numpy as np\n",
    "import pandas as pd\n",
    "import librosa, librosa.display \n",
    "import matplotlib.pyplot as plt\n",
    "from scipy.io import wavfile"
   ]
  },
  {
   "cell_type": "code",
   "execution_count": 12,
   "id": "0b6b637a-3e5d-475d-b07f-f4878098dec2",
   "metadata": {},
   "outputs": [
    {
     "name": "stdout",
     "output_type": "stream",
     "text": [
      "48000 (2880512,)\n",
      "[ 0  0  0 ... -1 -1 -1]\n"
     ]
    }
   ],
   "source": [
    "# path  = \"E:/RESEARCH/Datasets/breathe/normal/\"\n",
    "# path  = \"E:/RESEARCH/Datasets/breathe/weak/\"\n",
    "path  = \"E:/RESEARCH/Datasets/breathe/strong/\"\n",
    "fname = \"1.wav\"\n",
    "\n",
    "fs, data = wavfile.read(path + fname)\n",
    "\n",
    "print(fs, data.shape)\n",
    "print(data)"
   ]
  },
  {
   "cell_type": "code",
   "execution_count": 13,
   "id": "d7e9d3db-7ec6-43cf-b3fb-6c97f60c1b07",
   "metadata": {},
   "outputs": [
    {
     "data": {
      "text/plain": [
       "(2880512,)"
      ]
     },
     "execution_count": 13,
     "metadata": {},
     "output_type": "execute_result"
    }
   ],
   "source": [
    "data.shape"
   ]
  },
  {
   "cell_type": "code",
   "execution_count": 14,
   "id": "3e265036-4bad-4708-9888-2924087b42cd",
   "metadata": {},
   "outputs": [
    {
     "data": {
      "image/png": "[encoded data removed]",
      "text/plain": [
       "<Figure size 864x216 with 1 Axes>"
      ]
     },
     "metadata": {
      "needs_background": "light"
     },
     "output_type": "display_data"
    }
   ],
   "source": [
    "plt.figure(figsize = (12, 3))\n",
    "plt.plot(data, lw = 1)\n",
    "# plt.xlabel(\"sample\")\n",
    "# plt.ylabel(\"data\")\n",
    "plt.xlim(0, len(data))\n",
    "plt.tight_layout()"
   ]
  },
  {
   "cell_type": "code",
   "execution_count": null,
   "id": "2fc2354e-d264-495d-aafe-29883c34746d",
   "metadata": {},
   "outputs": [],
   "source": []
  },
  {
   "cell_type": "code",
   "execution_count": null,
   "id": "119c9b56-11a8-4c07-838c-dc3f0e3ade15",
   "metadata": {},
   "outputs": [],
   "source": []
  },
  {
   "cell_type": "code",
   "execution_count": null,
   "id": "683631a4-ec3f-4bdd-a6a0-6b9e7792e56f",
   "metadata": {},
   "outputs": [],
   "source": []
  },
  {
   "cell_type": "code",
   "execution_count": null,
   "id": "74be2ad4-5013-48fa-87f5-512daf17c246",
   "metadata": {},
   "outputs": [],
   "source": []
  },
  {
   "cell_type": "code",
   "execution_count": null,
   "id": "1dcde1a3-8480-4a2f-b9ea-efc895ae9994",
   "metadata": {},
   "outputs": [],
   "source": []
  },
  {
   "cell_type": "code",
   "execution_count": 13,
   "id": "f0ed112b-bd04-420e-a0fb-849ba54092bc",
   "metadata": {},
   "outputs": [
    {
     "name": "stdout",
     "output_type": "stream",
     "text": [
      "[ 0.0000000e+00 -1.5258789e-05  0.0000000e+00 ...  1.6784668e-04\n",
      " -1.8615723e-03 -4.1809082e-03] (660751,)\n"
     ]
    }
   ],
   "source": [
    "# load audio file with Librosa\n",
    "sig, sr = librosa.load(path + fname, sr=22050)\n",
    "\n",
    "print(sig,sig.shape)"
   ]
  },
  {
   "cell_type": "code",
   "execution_count": 15,
   "id": "fd17cc82-f983-4c27-8734-0a13bd764d6c",
   "metadata": {},
   "outputs": [
    {
     "ename": "AttributeError",
     "evalue": "module 'librosa.display' has no attribute 'waveplot'",
     "output_type": "error",
     "traceback": [
      "\u001b[1;31m---------------------------------------------------------------------------\u001b[0m",
      "\u001b[1;31mAttributeError\u001b[0m                            Traceback (most recent call last)",
      "\u001b[1;32m<ipython-input-15-ed56d8e35722>\u001b[0m in \u001b[0;36m<module>\u001b[1;34m\u001b[0m\n\u001b[0;32m      1\u001b[0m \u001b[0mFIG_SIZE\u001b[0m\u001b[1;33m=\u001b[0m\u001b[1;33m(\u001b[0m\u001b[1;36m15\u001b[0m\u001b[1;33m,\u001b[0m\u001b[1;36m10\u001b[0m\u001b[1;33m)\u001b[0m\u001b[1;33m\u001b[0m\u001b[1;33m\u001b[0m\u001b[0m\n\u001b[0;32m      2\u001b[0m \u001b[0mplt\u001b[0m\u001b[1;33m.\u001b[0m\u001b[0mfigure\u001b[0m\u001b[1;33m(\u001b[0m\u001b[0mfigsize\u001b[0m\u001b[1;33m=\u001b[0m\u001b[0mFIG_SIZE\u001b[0m\u001b[1;33m)\u001b[0m\u001b[1;33m\u001b[0m\u001b[1;33m\u001b[0m\u001b[0m\n\u001b[1;32m----> 3\u001b[1;33m \u001b[0mlibrosa\u001b[0m\u001b[1;33m.\u001b[0m\u001b[0mdisplay\u001b[0m\u001b[1;33m.\u001b[0m\u001b[0mwaveplot\u001b[0m\u001b[1;33m(\u001b[0m\u001b[0msig\u001b[0m\u001b[1;33m,\u001b[0m \u001b[0msr\u001b[0m\u001b[1;33m,\u001b[0m \u001b[0malpha\u001b[0m\u001b[1;33m=\u001b[0m\u001b[1;36m0.5\u001b[0m\u001b[1;33m)\u001b[0m\u001b[1;33m\u001b[0m\u001b[1;33m\u001b[0m\u001b[0m\n\u001b[0m\u001b[0;32m      4\u001b[0m \u001b[0mplt\u001b[0m\u001b[1;33m.\u001b[0m\u001b[0mxlabel\u001b[0m\u001b[1;33m(\u001b[0m\u001b[1;34m\"Time (s)\"\u001b[0m\u001b[1;33m)\u001b[0m\u001b[1;33m\u001b[0m\u001b[1;33m\u001b[0m\u001b[0m\n\u001b[0;32m      5\u001b[0m \u001b[0mplt\u001b[0m\u001b[1;33m.\u001b[0m\u001b[0mylabel\u001b[0m\u001b[1;33m(\u001b[0m\u001b[1;34m\"Amplitude\"\u001b[0m\u001b[1;33m)\u001b[0m\u001b[1;33m\u001b[0m\u001b[1;33m\u001b[0m\u001b[0m\n",
      "\u001b[1;31mAttributeError\u001b[0m: module 'librosa.display' has no attribute 'waveplot'"
     ]
    },
    {
     "data": {
      "text/plain": [
       "<Figure size 1080x720 with 0 Axes>"
      ]
     },
     "metadata": {},
     "output_type": "display_data"
    }
   ],
   "source": [
    "FIG_SIZE=(15,10)\n",
    "plt.figure(figsize=FIG_SIZE)\n",
    "librosa.display.waveplot(sig, sr, alpha=0.5)\n",
    "plt.xlabel(\"Time (s)\")\n",
    "plt.ylabel(\"Amplitude\")\n",
    "plt.title(\"Waveform\")"
   ]
  },
  {
   "cell_type": "code",
   "execution_count": null,
   "id": "6d620d37-cedd-419d-a4bb-cfee18ac535e",
   "metadata": {},
   "outputs": [],
   "source": [
    "fft = np.fft.fft(sig)\n",
    "\n",
    "# 복소공간 값 절댓갑 취해서, magnitude 구하기\n",
    "magnitude = np.abs(fft) \n",
    "\n",
    "# Frequency 값 만들기\n",
    "f = np.linspace(0,sr,len(magnitude))\n",
    "\n",
    "# 푸리에 변환을 통과한 specturm은 대칭구조로 나와서 high frequency 부분 절반을 날려고 앞쪽 절반만 사용한다.\n",
    "left_spectrum = magnitude[:int(len(magnitude)/2)]\n",
    "left_f = f[:int(len(magnitude)/2)]\n",
    "\n",
    "plt.figure(figsize=FIG_SIZE)\n",
    "plt.plot(left_f, left_spectrum)\n",
    "plt.xlabel(\"Frequency\")\n",
    "plt.ylabel(\"Magnitude\")\n",
    "plt.title(\"Power spectrum\")"
   ]
  },
  {
   "cell_type": "code",
   "execution_count": null,
   "id": "ec8cc6d0-296e-4557-94a7-03dea8b809aa",
   "metadata": {},
   "outputs": [],
   "source": []
  },
  {
   "cell_type": "code",
   "execution_count": null,
   "id": "29e402a3-9350-4b58-90ac-3cc7f436241a",
   "metadata": {},
   "outputs": [],
   "source": [
    "# STFT -> spectrogram\n",
    "hop_length = 512  # 전체 frame 수\n",
    "n_fft = 2048  # frame 하나당 sample 수\n",
    "\n",
    "# calculate duration hop length and window in seconds\n",
    "hop_length_duration = float(hop_length)/sr\n",
    "n_fft_duration = float(n_fft)/sr\n",
    "\n",
    "# STFT\n",
    "stft = librosa.stft(sig, n_fft=n_fft, hop_length=hop_length)\n",
    "\n",
    "# 복소공간 값 절댓값 취하기\n",
    "magnitude = np.abs(stft)\n",
    "\n",
    "# magnitude > Decibels \n",
    "log_spectrogram = librosa.amplitude_to_db(magnitude)\n",
    "\n",
    "# display spectrogram\n",
    "plt.figure(figsize=FIG_SIZE)\n",
    "librosa.display.specshow(log_spectrogram, sr=sr, hop_length=hop_length)\n",
    "plt.xlabel(\"Time\")\n",
    "plt.ylabel(\"Frequency\")\n",
    "plt.colorbar(format=\"%+2.0f dB\")\n",
    "plt.title(\"Spectrogram (dB)\")"
   ]
  },
  {
   "cell_type": "code",
   "execution_count": null,
   "id": "a637e4ad-35a1-49f4-8a7e-5431936197c0",
   "metadata": {},
   "outputs": [],
   "source": []
  },
  {
   "cell_type": "code",
   "execution_count": null,
   "id": "e7fa5a34-416e-4ba0-82a2-b7efecd53fef",
   "metadata": {},
   "outputs": [],
   "source": []
  },
  {
   "cell_type": "code",
   "execution_count": null,
   "id": "8f929e1a-327c-44ff-b571-1656abef4826",
   "metadata": {},
   "outputs": [],
   "source": []
  },
  {
   "cell_type": "code",
   "execution_count": null,
   "id": "5fa7da2f-14fd-467a-85fe-fb320bceb8fd",
   "metadata": {},
   "outputs": [],
   "source": []
  },
  {
   "cell_type": "code",
   "execution_count": null,
   "id": "496833d1-a504-4749-9907-9fe369fd85a2",
   "metadata": {},
   "outputs": [],
   "source": []
  },
  {
   "cell_type": "code",
   "execution_count": null,
   "id": "67ff3303-c3f2-4ab3-b8ec-c799166b490f",
   "metadata": {},
   "outputs": [],
   "source": []
  },
  {
   "cell_type": "code",
   "execution_count": null,
   "id": "c023f4b9-efbb-4539-bc98-d3f8660166e6",
   "metadata": {},
   "outputs": [],
   "source": []
  },
  {
   "cell_type": "code",
   "execution_count": null,
   "id": "0755cca4-2b10-46d4-9f0b-c96351ed8403",
   "metadata": {},
   "outputs": [],
   "source": []
  },
  {
   "cell_type": "code",
   "execution_count": null,
   "id": "62b3d3d6-3988-49c5-b83e-e2da9a51e5ba",
   "metadata": {},
   "outputs": [],
   "source": []
  },
  {
   "cell_type": "code",
   "execution_count": null,
   "id": "15591f44-05ad-483a-8beb-7d34e98aa8ea",
   "metadata": {},
   "outputs": [],
   "source": []
  },
  {
   "cell_type": "code",
   "execution_count": null,
   "id": "2a7ded17-390a-4936-834f-68aac94e886b",
   "metadata": {},
   "outputs": [],
   "source": []
  },
  {
   "cell_type": "code",
   "execution_count": null,
   "id": "c4720fb8-e67d-4bbd-9233-8db7876bc06a",
   "metadata": {},
   "outputs": [],
   "source": []
  },
  {
   "cell_type": "code",
   "execution_count": null,
   "id": "df5e52df-3123-44be-b46c-015e90181082",
   "metadata": {},
   "outputs": [],
   "source": []
  }
 ],
 "metadata": {
  "kernelspec": {
   "display_name": "Python 3",
   "language": "python",
   "name": "python3"
  },
  "language_info": {
   "codemirror_mode": {
    "name": "ipython",
    "version": 3
   },
   "file_extension": ".py",
   "mimetype": "text/x-python",
   "name": "python",
   "nbconvert_exporter": "python",
   "pygments_lexer": "ipython3",
   "version": "3.8.10"
  }
 },
 "nbformat": 4,
 "nbformat_minor": 5
}
