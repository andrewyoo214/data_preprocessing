{
 "cells": [
  {
   "cell_type": "markdown",
   "id": "5f3b77de-801c-4a90-b9b1-5d1e83076616",
   "metadata": {},
   "source": [
    "# EDA and Simple Classifications"
   ]
  },
  {
   "cell_type": "code",
   "execution_count": null,
   "id": "692142b3-5333-4fe2-a137-724c096b1ef9",
   "metadata": {},
   "outputs": [],
   "source": [
    "import numpy as np\n",
    "import pandas as pd\n",
    "import matplotlib.pyplot as plt\n",
    "import sklearn"
   ]
  },
  {
   "cell_type": "code",
   "execution_count": null,
   "id": "5c75799d-8138-47ad-b41e-15fce107f4b7",
   "metadata": {},
   "outputs": [],
   "source": [
    "from sklearn.model_selection import train_test_split\n",
    "from sklearn.preprocessing import Normalizer, MinMaxScaler, RobustScaler, StandardScaler"
   ]
  },
  {
   "cell_type": "code",
   "execution_count": null,
   "id": "ca5871b3-b0d5-48e7-8657-b7c5f58b7078",
   "metadata": {},
   "outputs": [],
   "source": [
    "scaler = MinMaxScaler()"
   ]
  },
  {
   "cell_type": "markdown",
   "id": "ae5984ed-e1ff-4628-b79b-80ed913851de",
   "metadata": {},
   "source": [
    "> Due to the search results, they mentioned about the test as below.\n",
    "> 1. some packages (numpy, pandas, matplotlib, sklearn) are allowed.\n",
    "> 2. dataset are titanic, pima, or similar simple tabular dataset.\n",
    "> 3. regression, classification models are asked to implement."
   ]
  },
  {
   "cell_type": "code",
   "execution_count": null,
   "id": "36937031-5eff-4635-ada8-2f7f959f5624",
   "metadata": {},
   "outputs": [],
   "source": []
  },
  {
   "cell_type": "markdown",
   "id": "aca4aeb2-ac73-452b-b885-d96094d6da2e",
   "metadata": {},
   "source": [
    "## data load and basic data check"
   ]
  },
  {
   "cell_type": "code",
   "execution_count": null,
   "id": "ec307e26-248e-4350-bbd3-dc1a3945e423",
   "metadata": {},
   "outputs": [],
   "source": [
    "df = pd.read_csv('E:/RESEARCH/Datasets/kaggle/titanic/titanic_dataset.csv')"
   ]
  },
  {
   "cell_type": "code",
   "execution_count": null,
   "id": "28892d4a-dd4e-457e-9acc-ec8777953676",
   "metadata": {},
   "outputs": [],
   "source": [
    "# df.info()\n",
    "df.head(5)"
   ]
  },
  {
   "cell_type": "code",
   "execution_count": null,
   "id": "26d4b731-505a-401f-943f-af16add6eb27",
   "metadata": {},
   "outputs": [],
   "source": [
    "df.isnull().sum()"
   ]
  },
  {
   "cell_type": "code",
   "execution_count": null,
   "id": "950c9859-771a-4f20-98a2-addeaf30c8e3",
   "metadata": {},
   "outputs": [],
   "source": [
    "df = df.drop(['Cabin', 'Name', 'Ticket', 'PassengerId'], axis=1)\n",
    "df.shape"
   ]
  },
  {
   "cell_type": "code",
   "execution_count": null,
   "id": "59359483-5448-4eca-8fa1-b65b826dd373",
   "metadata": {},
   "outputs": [],
   "source": []
  },
  {
   "cell_type": "markdown",
   "id": "dd043060-db59-496f-b9b4-a922937b9aac",
   "metadata": {},
   "source": [
    "> If just deleting the columns with nan variables."
   ]
  },
  {
   "cell_type": "code",
   "execution_count": null,
   "id": "609e69c4-cb7e-40d0-a071-f79a9e8fab6f",
   "metadata": {},
   "outputs": [],
   "source": [
    "df_nadrop  = df.copy()\n",
    "df_nadrop.dropna(inplace=True)"
   ]
  },
  {
   "cell_type": "code",
   "execution_count": null,
   "id": "68a548ba-7ddf-46f1-b86e-e9db19435a1d",
   "metadata": {},
   "outputs": [],
   "source": [
    "df_nadrop.shape"
   ]
  },
  {
   "cell_type": "code",
   "execution_count": null,
   "id": "4a25dc45-71aa-44c8-8d7b-4e02548b59c6",
   "metadata": {},
   "outputs": [],
   "source": [
    "df_nadrop.Survived.value_counts()"
   ]
  },
  {
   "cell_type": "code",
   "execution_count": null,
   "id": "5eb4c95b-3ec4-4307-b83d-6b07a8fd42b7",
   "metadata": {},
   "outputs": [],
   "source": []
  },
  {
   "cell_type": "markdown",
   "id": "5a653187-123d-4e05-8895-84746a29133e",
   "metadata": {},
   "source": [
    "> If interpolating the age variable nan values"
   ]
  },
  {
   "cell_type": "code",
   "execution_count": null,
   "id": "8a427d4c-2e5a-42e4-b824-2ffaf7349f55",
   "metadata": {},
   "outputs": [],
   "source": [
    "df_interpolate = df.copy()\n",
    "age_mean_pclass = df_interpolate.groupby('Pclass')['Age'].transform('mean')\n",
    "df_interpolate['Age'].fillna(age_mean_pclass, inplace=True)"
   ]
  },
  {
   "cell_type": "code",
   "execution_count": null,
   "id": "74e01217-ed9a-4f2f-aac8-a5fb5262c501",
   "metadata": {},
   "outputs": [],
   "source": [
    "df_interpolate.Survived.value_counts()"
   ]
  },
  {
   "cell_type": "code",
   "execution_count": null,
   "id": "9ad74c2a-7967-4695-b7e4-b4c60b5de7d6",
   "metadata": {},
   "outputs": [],
   "source": [
    "df_interpolate.dropna(inplace=True)"
   ]
  },
  {
   "cell_type": "code",
   "execution_count": null,
   "id": "07e254ab-2623-40de-96f0-d591f9041b7b",
   "metadata": {},
   "outputs": [],
   "source": [
    "df_interpolate.shape"
   ]
  },
  {
   "cell_type": "code",
   "execution_count": null,
   "id": "3fcb55e1-bd91-4708-922b-0886e4bbc841",
   "metadata": {},
   "outputs": [],
   "source": [
    "df_interpolate.info()"
   ]
  },
  {
   "cell_type": "code",
   "execution_count": null,
   "id": "090947ee-6579-4d28-be3c-9d46b23d889d",
   "metadata": {},
   "outputs": [],
   "source": []
  },
  {
   "cell_type": "code",
   "execution_count": null,
   "id": "b8966c16-24dd-4607-a61c-9c2f2db0aad5",
   "metadata": {},
   "outputs": [],
   "source": []
  },
  {
   "cell_type": "markdown",
   "id": "ea923629-944f-4c18-8457-06981491df95",
   "metadata": {},
   "source": [
    "## convert categorical"
   ]
  },
  {
   "cell_type": "code",
   "execution_count": null,
   "id": "86d1d472-0b70-4403-bebb-a546da5e36f3",
   "metadata": {},
   "outputs": [],
   "source": [
    "# data = df_dropna.copy()\n",
    "data = df_interpolate.copy()"
   ]
  },
  {
   "cell_type": "code",
   "execution_count": null,
   "id": "cac0a594-d7ce-48a4-ae8f-a4c789455379",
   "metadata": {},
   "outputs": [],
   "source": [
    "df_final = pd.get_dummies(data, columns=['Sex', 'Embarked'], drop_first=True, dtype=int)"
   ]
  },
  {
   "cell_type": "code",
   "execution_count": null,
   "id": "095c5e07-5a27-48af-9e59-23e2a3695b84",
   "metadata": {},
   "outputs": [],
   "source": [
    "df_final.info()"
   ]
  },
  {
   "cell_type": "code",
   "execution_count": null,
   "id": "ee08d268-b30a-4f7d-8dfe-144fd1e05a71",
   "metadata": {},
   "outputs": [],
   "source": [
    "df_final.head()"
   ]
  },
  {
   "cell_type": "code",
   "execution_count": null,
   "id": "9baf8bf8-7143-4098-af5a-3d68b8b827e5",
   "metadata": {},
   "outputs": [],
   "source": []
  },
  {
   "cell_type": "markdown",
   "id": "94a11847-d5a5-4b6e-a6a6-12d52913af39",
   "metadata": {},
   "source": [
    "***"
   ]
  },
  {
   "cell_type": "markdown",
   "id": "2d458e4d-0a23-41f8-abbe-d2b5609d3bd2",
   "metadata": {},
   "source": [
    "## Visualization"
   ]
  },
  {
   "cell_type": "code",
   "execution_count": null,
   "id": "6dceff56-738d-45d1-8940-4d6a99c7ce33",
   "metadata": {},
   "outputs": [],
   "source": [
    "data_vis = df_final.copy()"
   ]
  },
  {
   "cell_type": "code",
   "execution_count": null,
   "id": "c962f1a3-d4f2-4a30-be15-6474c916bdf1",
   "metadata": {},
   "outputs": [],
   "source": []
  },
  {
   "cell_type": "markdown",
   "id": "55512ab5-166f-41d8-88ec-5141f6f28dc1",
   "metadata": {},
   "source": [
    "### count bar plot"
   ]
  },
  {
   "cell_type": "code",
   "execution_count": null,
   "id": "5ccd1052-654b-4187-871f-b1bd962ae8ea",
   "metadata": {},
   "outputs": [],
   "source": [
    "survival_counts = data_vis['Survived'].value_counts()"
   ]
  },
  {
   "cell_type": "code",
   "execution_count": null,
   "id": "96648e18-010b-4590-8fc0-07e0f9518374",
   "metadata": {},
   "outputs": [],
   "source": [
    "plt.figure(figsize=(5, 5))\n",
    "plt.bar(survival_counts.index, survival_counts.values, color='green')"
   ]
  },
  {
   "cell_type": "code",
   "execution_count": null,
   "id": "4f82556c-938a-4b7d-bcab-ac6c8fe0b428",
   "metadata": {},
   "outputs": [],
   "source": []
  },
  {
   "cell_type": "markdown",
   "id": "90547f8f-f288-4588-bee4-d6f99ffc1eda",
   "metadata": {},
   "source": [
    "### Correlation"
   ]
  },
  {
   "cell_type": "code",
   "execution_count": null,
   "id": "87bad325-c5c7-4cb3-8e8b-d1998316735d",
   "metadata": {},
   "outputs": [],
   "source": [
    "corr_matrix = data_vis.corr()\n",
    "plt.figure(figsize=(8, 5))\n",
    "plt.imshow(corr_matrix, cmap='coolwarm', interpolation='none', aspect='auto')\n",
    "plt.colorbar()  # 색상 막대 추가\n",
    "plt.xticks(range(len(corr_matrix)), corr_matrix.columns, rotation=45)\n",
    "plt.yticks(range(len(corr_matrix)), corr_matrix.columns)"
   ]
  },
  {
   "cell_type": "code",
   "execution_count": null,
   "id": "59bd5930-9260-45b6-a411-09a01d19295c",
   "metadata": {},
   "outputs": [],
   "source": [
    "data_vis.corr().Survived.sort_values(ascending = True)"
   ]
  },
  {
   "cell_type": "code",
   "execution_count": null,
   "id": "44fa52d3-abe3-49eb-b81e-522076bd82f9",
   "metadata": {},
   "outputs": [],
   "source": []
  },
  {
   "cell_type": "markdown",
   "id": "d59dac7a-98ff-4c83-883a-2ac98e508bf6",
   "metadata": {},
   "source": [
    "### histogram"
   ]
  },
  {
   "cell_type": "code",
   "execution_count": null,
   "id": "a51d70c1-8589-4c93-b762-83460f169919",
   "metadata": {},
   "outputs": [],
   "source": [
    "numeric_cols = data_vis.select_dtypes(include=['int','float']).columns\n",
    "categ_cols = data_vis.select_dtypes(include=['object', 'bool']).columns"
   ]
  },
  {
   "cell_type": "code",
   "execution_count": null,
   "id": "a9b0ea15-da66-4665-b458-336ed816b31b",
   "metadata": {},
   "outputs": [],
   "source": [
    "data_vis[numeric_cols].hist()"
   ]
  },
  {
   "cell_type": "code",
   "execution_count": null,
   "id": "678f8d21-7fd4-4718-b020-561b880d4901",
   "metadata": {},
   "outputs": [],
   "source": []
  },
  {
   "cell_type": "code",
   "execution_count": null,
   "id": "4199fbab-f248-49bb-9215-0354220e7db8",
   "metadata": {},
   "outputs": [],
   "source": []
  },
  {
   "cell_type": "code",
   "execution_count": null,
   "id": "e84c6312-c971-40fa-9492-00ee62b5c2bc",
   "metadata": {},
   "outputs": [],
   "source": []
  },
  {
   "cell_type": "markdown",
   "id": "5205c757-2167-4cfa-8159-bd4c07794088",
   "metadata": {},
   "source": [
    "***"
   ]
  },
  {
   "cell_type": "markdown",
   "id": "2301907e-7571-4bcc-84ca-4c9cfe9ab5de",
   "metadata": {},
   "source": [
    "## Classification models"
   ]
  },
  {
   "cell_type": "code",
   "execution_count": null,
   "id": "6a96d523-1c7d-41cf-8ec7-d3b739497d7d",
   "metadata": {},
   "outputs": [],
   "source": [
    "x = df_final.drop('Survived', axis=1)\n",
    "y = df_final.Survived"
   ]
  },
  {
   "cell_type": "code",
   "execution_count": null,
   "id": "4d5ae25d-3c90-4241-9be9-870ad0949fa8",
   "metadata": {},
   "outputs": [],
   "source": [
    "x[:] = (scaler.fit_transform(x[:]).round(decimals=6))"
   ]
  },
  {
   "cell_type": "code",
   "execution_count": null,
   "id": "06413968-834c-4481-bd2d-aa46ead97ea6",
   "metadata": {},
   "outputs": [],
   "source": [
    "x_train, x_test, y_train, y_test = train_test_split(x, y, test_size=0.2, random_state=2024)"
   ]
  },
  {
   "cell_type": "code",
   "execution_count": null,
   "id": "ecd7b1f2-ee5e-41dc-8354-838ed01eea81",
   "metadata": {},
   "outputs": [],
   "source": []
  },
  {
   "cell_type": "markdown",
   "id": "4ce573de-c805-473b-b627-5cd1c3aab8df",
   "metadata": {},
   "source": [
    "### Logistic regression"
   ]
  },
  {
   "cell_type": "code",
   "execution_count": null,
   "id": "275c7359-c953-487c-916a-3b28b51b96ce",
   "metadata": {},
   "outputs": [],
   "source": [
    "from sklearn.linear_model import LogisticRegression\n",
    "from sklearn.metrics import classification_report, confusion_matrix, accuracy_score"
   ]
  },
  {
   "cell_type": "code",
   "execution_count": null,
   "id": "f507115d-5f3c-4e61-8071-e53c7b718228",
   "metadata": {},
   "outputs": [],
   "source": []
  },
  {
   "cell_type": "markdown",
   "id": "625bafc2-973c-455f-a76d-40302f446c5b",
   "metadata": {},
   "source": [
    "#### Basic Model"
   ]
  },
  {
   "cell_type": "code",
   "execution_count": null,
   "id": "6032d9a1-c11a-4abe-ae40-e93b94032612",
   "metadata": {},
   "outputs": [],
   "source": [
    "logis_model = LogisticRegression()\n",
    "logis_model.fit(x_train, y_train)"
   ]
  },
  {
   "cell_type": "code",
   "execution_count": null,
   "id": "69d2bded-b253-4281-90fd-695cd5c8fd02",
   "metadata": {},
   "outputs": [],
   "source": [
    "predictions = logis_model.predict(x_test)"
   ]
  },
  {
   "cell_type": "code",
   "execution_count": null,
   "id": "0956d93a-4f53-417c-a6a9-1f4580a203e4",
   "metadata": {},
   "outputs": [],
   "source": [
    "print(confusion_matrix(y_test,predictions))\n",
    "print(classification_report(y_test,predictions))"
   ]
  },
  {
   "cell_type": "code",
   "execution_count": null,
   "id": "8b978e2f-936c-48b0-81ce-fe055733ae80",
   "metadata": {},
   "outputs": [],
   "source": []
  },
  {
   "cell_type": "markdown",
   "id": "17edf633-fdfd-4003-ad87-f76a34406546",
   "metadata": {},
   "source": [
    "#### model with L2, L1 normalization"
   ]
  },
  {
   "cell_type": "code",
   "execution_count": null,
   "id": "303d593e-8605-43b6-9ed8-7ff36924bdc7",
   "metadata": {},
   "outputs": [],
   "source": [
    "model_l1 = LogisticRegression(penalty='l1', solver='liblinear', C=0.1, random_state=2024)\n",
    "model_l2 = LogisticRegression(penalty='l2', C=0.1, random_state=2024)"
   ]
  },
  {
   "cell_type": "code",
   "execution_count": null,
   "id": "e07c6bc2-4bca-4f4a-a927-ed8a21795497",
   "metadata": {},
   "outputs": [],
   "source": [
    "model_l1.fit(x_train, y_train)\n",
    "model_l2.fit(x_train, y_train)"
   ]
  },
  {
   "cell_type": "code",
   "execution_count": null,
   "id": "edc2841f-c52e-46ae-b7fa-876da8475ee1",
   "metadata": {},
   "outputs": [],
   "source": [
    "log_pred1 = model_l1.predict(x_test)\n",
    "log_pred2 = model_l2.predict(x_test)"
   ]
  },
  {
   "cell_type": "code",
   "execution_count": null,
   "id": "534b18ae-b653-4b1c-a1cf-0e3c3b1ae82e",
   "metadata": {},
   "outputs": [],
   "source": []
  },
  {
   "cell_type": "code",
   "execution_count": null,
   "id": "f8765910-34ad-4ab7-bb5c-79ae9911582a",
   "metadata": {},
   "outputs": [],
   "source": [
    "print(confusion_matrix(y_test, log_pred1))\n",
    "print(classification_report(y_test, log_pred1))"
   ]
  },
  {
   "cell_type": "code",
   "execution_count": null,
   "id": "2683053f-6a23-4cfc-8032-16ab44c5f9d8",
   "metadata": {},
   "outputs": [],
   "source": [
    "print(confusion_matrix(y_test, log_pred2))\n",
    "print(classification_report(y_test, log_pred2))"
   ]
  },
  {
   "cell_type": "code",
   "execution_count": null,
   "id": "ef4663ed-9aba-4631-9468-f5d35b9c0aea",
   "metadata": {},
   "outputs": [],
   "source": []
  },
  {
   "cell_type": "code",
   "execution_count": null,
   "id": "cbb00fe8-02a1-428b-aee7-30794637ab4a",
   "metadata": {},
   "outputs": [],
   "source": []
  },
  {
   "cell_type": "code",
   "execution_count": null,
   "id": "3fe33b61-b8fa-421f-a707-3150e9354e75",
   "metadata": {},
   "outputs": [],
   "source": []
  },
  {
   "cell_type": "code",
   "execution_count": null,
   "id": "a901f980-b4c7-4b85-8040-4deffe3698fe",
   "metadata": {},
   "outputs": [],
   "source": []
  },
  {
   "cell_type": "code",
   "execution_count": null,
   "id": "a0b8f433-1801-4a7f-93e1-be8b1980f000",
   "metadata": {},
   "outputs": [],
   "source": []
  },
  {
   "cell_type": "markdown",
   "id": "595c354c-0c7c-4301-a483-d46016fc491a",
   "metadata": {},
   "source": [
    "***"
   ]
  },
  {
   "cell_type": "markdown",
   "id": "1883a625-5759-426e-8aa5-14ce30b9d735",
   "metadata": {},
   "source": [
    "### Decision Tree"
   ]
  },
  {
   "cell_type": "code",
   "execution_count": null,
   "id": "39be0e71-3059-4cb5-aff4-d8afa2ad77bf",
   "metadata": {},
   "outputs": [],
   "source": [
    "from sklearn.tree import DecisionTreeClassifier"
   ]
  },
  {
   "cell_type": "code",
   "execution_count": null,
   "id": "a10b4251-d4f4-4b6b-ae82-711b7bfa190e",
   "metadata": {},
   "outputs": [],
   "source": [
    "dt_model=DecisionTreeClassifier()\n",
    "dt_model.fit(x_train,y_train)"
   ]
  },
  {
   "cell_type": "code",
   "execution_count": null,
   "id": "0b34c923-f381-4e85-b630-dd43f8cc0f38",
   "metadata": {},
   "outputs": [],
   "source": [
    "dt_pred = dt_model.predict(x_test)"
   ]
  },
  {
   "cell_type": "code",
   "execution_count": null,
   "id": "7c12a11d-eefd-4275-a84a-f3f6cba612d4",
   "metadata": {},
   "outputs": [],
   "source": [
    "print(confusion_matrix(y_test,dt_pred))\n",
    "print(classification_report(y_test,dt_pred))"
   ]
  },
  {
   "cell_type": "code",
   "execution_count": null,
   "id": "609a6e32-bdc3-4f7b-9f45-8647096e113c",
   "metadata": {},
   "outputs": [],
   "source": []
  },
  {
   "cell_type": "code",
   "execution_count": null,
   "id": "cdea340e-4704-4b22-96ae-83c5811366c4",
   "metadata": {},
   "outputs": [],
   "source": []
  },
  {
   "cell_type": "markdown",
   "id": "b847da30-9c51-4e8d-8784-91a8215229cf",
   "metadata": {},
   "source": [
    "### Random Forest"
   ]
  },
  {
   "cell_type": "code",
   "execution_count": null,
   "id": "f026447d-20ba-40cf-93bf-73de78aa3661",
   "metadata": {},
   "outputs": [],
   "source": [
    "from sklearn.ensemble import RandomForestClassifier"
   ]
  },
  {
   "cell_type": "code",
   "execution_count": null,
   "id": "a09614ea-791e-4f31-a458-1a6ae563ebc9",
   "metadata": {},
   "outputs": [],
   "source": [
    "rf= RandomForestClassifier(n_estimators=500)\n",
    "rf.fit(x_train,y_train)"
   ]
  },
  {
   "cell_type": "code",
   "execution_count": null,
   "id": "a18a3882-21a5-42a1-8628-f85b9cd75964",
   "metadata": {},
   "outputs": [],
   "source": [
    "rf_pred=rf.predict(x_test)"
   ]
  },
  {
   "cell_type": "code",
   "execution_count": null,
   "id": "9e18168e-b24a-4a82-8e9e-6c51b877fa0c",
   "metadata": {},
   "outputs": [],
   "source": [
    "print(confusion_matrix(y_test,rf_pred))\n",
    "print(classification_report(y_test,rf_pred))"
   ]
  },
  {
   "cell_type": "code",
   "execution_count": null,
   "id": "01617e7f-2342-45c2-ba9e-d25bdc4ee03c",
   "metadata": {},
   "outputs": [],
   "source": []
  },
  {
   "cell_type": "markdown",
   "id": "40d527ee-b9c4-40d9-9ae6-e8c5e1031d17",
   "metadata": {},
   "source": [
    "### Integrated (non DNN models)"
   ]
  },
  {
   "cell_type": "code",
   "execution_count": null,
   "id": "0778b84a-8e0f-4728-8a61-b24880c7cf2c",
   "metadata": {},
   "outputs": [],
   "source": [
    "from sklearn.linear_model import LogisticRegression\n",
    "from sklearn.tree import DecisionTreeClassifier\n",
    "from sklearn.ensemble import RandomForestClassifier\n",
    "from sklearn.svm import SVC\n",
    "from sklearn.neighbors import KNeighborsClassifier"
   ]
  },
  {
   "cell_type": "code",
   "execution_count": null,
   "id": "d33bef65-730a-4916-9887-ff88705a8951",
   "metadata": {},
   "outputs": [],
   "source": [
    "# 다양한 분류 모델 정의\n",
    "non_dnn_models = {\n",
    "    'Logistic Regression': LogisticRegression(),\n",
    "    'Decision Tree': DecisionTreeClassifier(),\n",
    "    'Random Forest': RandomForestClassifier(),\n",
    "    'SVM': SVC(),\n",
    "    'KNN': KNeighborsClassifier()\n",
    "}"
   ]
  },
  {
   "cell_type": "code",
   "execution_count": null,
   "id": "63c3e5cc-92a1-4a11-b491-1bde5ec9424b",
   "metadata": {},
   "outputs": [],
   "source": [
    "# 모델 학습 및 평가\n",
    "for name, model in non_dnn_models.items():\n",
    "    model.fit(x_train, y_train)\n",
    "    y_pred = model.predict(x_test)\n",
    "    \n",
    "    ## checking model performance\n",
    "    accuracy = accuracy_score(y_test, y_pred)\n",
    "    print(f'{name} Accuracy: {accuracy:.2f}')"
   ]
  },
  {
   "cell_type": "code",
   "execution_count": null,
   "id": "e3f19d3b-1343-4122-8a16-150c2b2f92db",
   "metadata": {},
   "outputs": [],
   "source": []
  },
  {
   "cell_type": "markdown",
   "id": "6b830942-e76b-42f8-a100-b651fd54dbc1",
   "metadata": {},
   "source": [
    "### Simple DNN"
   ]
  },
  {
   "cell_type": "code",
   "execution_count": null,
   "id": "3af7864b-959c-4aa1-9335-0f75c7641795",
   "metadata": {},
   "outputs": [],
   "source": [
    "from sklearn.neural_network import MLPClassifier\n",
    "\n",
    "mlp_model = MLPClassifier(hidden_layer_sizes=(16, 8, 4), \n",
    "                      activation='relu',\n",
    "                      solver='adam', \n",
    "                      max_iter=500, \n",
    "                      random_state=2024)"
   ]
  },
  {
   "cell_type": "code",
   "execution_count": null,
   "id": "9c978e5c-50af-404a-91f6-975823457a61",
   "metadata": {},
   "outputs": [],
   "source": [
    "mlp_model.fit(x_train, y_train)\n",
    "\n",
    "# 예측\n",
    "y_pred = mlp_model.predict(x_test)\n",
    "\n",
    "# 정확도 출력\n",
    "accuracy = accuracy_score(y_test, y_pred)\n",
    "print(f'DNN model accuracy: {accuracy:.2f}')"
   ]
  },
  {
   "cell_type": "code",
   "execution_count": null,
   "id": "3cecdde3-4557-4f75-8863-9480fb76bf7e",
   "metadata": {},
   "outputs": [],
   "source": []
  }
 ],
 "metadata": {
  "kernelspec": {
   "display_name": "Python 3 (ipykernel)",
   "language": "python",
   "name": "python3"
  },
  "language_info": {
   "codemirror_mode": {
    "name": "ipython",
    "version": 3
   },
   "file_extension": ".py",
   "mimetype": "text/x-python",
   "name": "python",
   "nbconvert_exporter": "python",
   "pygments_lexer": "ipython3",
   "version": "3.9.17"
  }
 },
 "nbformat": 4,
 "nbformat_minor": 5
}
