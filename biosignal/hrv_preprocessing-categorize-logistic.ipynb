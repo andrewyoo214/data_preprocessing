{
 "cells": [
  {
   "cell_type": "markdown",
   "id": "tropical-cosmetic",
   "metadata": {},
   "source": [
    "### HRV data preprocessing for FL research"
   ]
  },
  {
   "cell_type": "code",
   "execution_count": 1,
   "id": "intermediate-hayes",
   "metadata": {},
   "outputs": [],
   "source": [
    "import pandas as pd\n",
    "import numpy as np\n",
    "import matplotlib.pyplot as plt\n",
    "import seaborn as sns\n",
    "from sklearn.linear_model import LogisticRegression\n",
    "# from PIL import Image"
   ]
  },
  {
   "cell_type": "code",
   "execution_count": 43,
   "id": "monetary-cache",
   "metadata": {},
   "outputs": [
    {
     "data": {
      "text/html": [
       "<div>\n",
       "<style scoped>\n",
       "    .dataframe tbody tr th:only-of-type {\n",
       "        vertical-align: middle;\n",
       "    }\n",
       "\n",
       "    .dataframe tbody tr th {\n",
       "        vertical-align: top;\n",
       "    }\n",
       "\n",
       "    .dataframe thead th {\n",
       "        text-align: right;\n",
       "    }\n",
       "</style>\n",
       "<table border=\"1\" class=\"dataframe\">\n",
       "  <thead>\n",
       "    <tr style=\"text-align: right;\">\n",
       "      <th></th>\n",
       "      <th>sub</th>\n",
       "      <th>VISIT</th>\n",
       "      <th>disorder</th>\n",
       "      <th>age</th>\n",
       "      <th>gender</th>\n",
       "      <th>HAMD</th>\n",
       "      <th>HAMA</th>\n",
       "      <th>PDSS</th>\n",
       "      <th>ASI</th>\n",
       "      <th>APPQ</th>\n",
       "      <th>...</th>\n",
       "      <th>cRMSSD</th>\n",
       "      <th>cVLF</th>\n",
       "      <th>cLF</th>\n",
       "      <th>cHF</th>\n",
       "      <th>cLF/HF</th>\n",
       "      <th>cPOWER</th>\n",
       "      <th>cHR</th>\n",
       "      <th>cRESP</th>\n",
       "      <th>cSC</th>\n",
       "      <th>cTEMP</th>\n",
       "    </tr>\n",
       "  </thead>\n",
       "  <tbody>\n",
       "    <tr>\n",
       "      <th>0</th>\n",
       "      <td>E001</td>\n",
       "      <td>4</td>\n",
       "      <td>2</td>\n",
       "      <td>23</td>\n",
       "      <td>1</td>\n",
       "      <td>2</td>\n",
       "      <td>2</td>\n",
       "      <td>1</td>\n",
       "      <td>12</td>\n",
       "      <td>22</td>\n",
       "      <td>...</td>\n",
       "      <td>41.544667</td>\n",
       "      <td>190.107000</td>\n",
       "      <td>298.508333</td>\n",
       "      <td>206.862333</td>\n",
       "      <td>1.284000</td>\n",
       "      <td>695.477333</td>\n",
       "      <td>65.707000</td>\n",
       "      <td>14.054333</td>\n",
       "      <td>3.911333</td>\n",
       "      <td>34.998000</td>\n",
       "    </tr>\n",
       "    <tr>\n",
       "      <th>1</th>\n",
       "      <td>E001</td>\n",
       "      <td>5</td>\n",
       "      <td>2</td>\n",
       "      <td>23</td>\n",
       "      <td>1</td>\n",
       "      <td>12</td>\n",
       "      <td>7</td>\n",
       "      <td>0</td>\n",
       "      <td>12</td>\n",
       "      <td>24</td>\n",
       "      <td>...</td>\n",
       "      <td>39.825333</td>\n",
       "      <td>143.756667</td>\n",
       "      <td>115.695333</td>\n",
       "      <td>202.602667</td>\n",
       "      <td>0.585000</td>\n",
       "      <td>462.054667</td>\n",
       "      <td>69.040000</td>\n",
       "      <td>14.117333</td>\n",
       "      <td>6.255000</td>\n",
       "      <td>35.544333</td>\n",
       "    </tr>\n",
       "    <tr>\n",
       "      <th>2</th>\n",
       "      <td>E002</td>\n",
       "      <td>1</td>\n",
       "      <td>2</td>\n",
       "      <td>38</td>\n",
       "      <td>1</td>\n",
       "      <td>14</td>\n",
       "      <td>17</td>\n",
       "      <td>14</td>\n",
       "      <td>31</td>\n",
       "      <td>122</td>\n",
       "      <td>...</td>\n",
       "      <td>20.052000</td>\n",
       "      <td>22.006000</td>\n",
       "      <td>50.182000</td>\n",
       "      <td>32.529333</td>\n",
       "      <td>2.499333</td>\n",
       "      <td>104.717000</td>\n",
       "      <td>92.789333</td>\n",
       "      <td>11.013333</td>\n",
       "      <td>0.945667</td>\n",
       "      <td>35.086000</td>\n",
       "    </tr>\n",
       "    <tr>\n",
       "      <th>3</th>\n",
       "      <td>E002</td>\n",
       "      <td>2</td>\n",
       "      <td>2</td>\n",
       "      <td>38</td>\n",
       "      <td>1</td>\n",
       "      <td>13</td>\n",
       "      <td>36</td>\n",
       "      <td>16</td>\n",
       "      <td>32</td>\n",
       "      <td>139</td>\n",
       "      <td>...</td>\n",
       "      <td>20.201667</td>\n",
       "      <td>55.579000</td>\n",
       "      <td>84.441000</td>\n",
       "      <td>18.754000</td>\n",
       "      <td>5.803000</td>\n",
       "      <td>158.774333</td>\n",
       "      <td>85.980667</td>\n",
       "      <td>12.608333</td>\n",
       "      <td>0.785667</td>\n",
       "      <td>36.141000</td>\n",
       "    </tr>\n",
       "    <tr>\n",
       "      <th>4</th>\n",
       "      <td>E002</td>\n",
       "      <td>3</td>\n",
       "      <td>2</td>\n",
       "      <td>38</td>\n",
       "      <td>1</td>\n",
       "      <td>7</td>\n",
       "      <td>10</td>\n",
       "      <td>11</td>\n",
       "      <td>23</td>\n",
       "      <td>70</td>\n",
       "      <td>...</td>\n",
       "      <td>74.788000</td>\n",
       "      <td>182.229000</td>\n",
       "      <td>530.565667</td>\n",
       "      <td>546.574000</td>\n",
       "      <td>1.685667</td>\n",
       "      <td>1259.368667</td>\n",
       "      <td>84.368667</td>\n",
       "      <td>14.285667</td>\n",
       "      <td>0.648000</td>\n",
       "      <td>35.879000</td>\n",
       "    </tr>\n",
       "    <tr>\n",
       "      <th>...</th>\n",
       "      <td>...</td>\n",
       "      <td>...</td>\n",
       "      <td>...</td>\n",
       "      <td>...</td>\n",
       "      <td>...</td>\n",
       "      <td>...</td>\n",
       "      <td>...</td>\n",
       "      <td>...</td>\n",
       "      <td>...</td>\n",
       "      <td>...</td>\n",
       "      <td>...</td>\n",
       "      <td>...</td>\n",
       "      <td>...</td>\n",
       "      <td>...</td>\n",
       "      <td>...</td>\n",
       "      <td>...</td>\n",
       "      <td>...</td>\n",
       "      <td>...</td>\n",
       "      <td>...</td>\n",
       "      <td>...</td>\n",
       "      <td>...</td>\n",
       "    </tr>\n",
       "    <tr>\n",
       "      <th>474</th>\n",
       "      <td>E107</td>\n",
       "      <td>5</td>\n",
       "      <td>2</td>\n",
       "      <td>33</td>\n",
       "      <td>2</td>\n",
       "      <td>3</td>\n",
       "      <td>8</td>\n",
       "      <td>13</td>\n",
       "      <td>34</td>\n",
       "      <td>106</td>\n",
       "      <td>...</td>\n",
       "      <td>15.401300</td>\n",
       "      <td>52.557700</td>\n",
       "      <td>59.654300</td>\n",
       "      <td>35.842300</td>\n",
       "      <td>1.643670</td>\n",
       "      <td>148.054000</td>\n",
       "      <td>78.424000</td>\n",
       "      <td>16.512000</td>\n",
       "      <td>0.310333</td>\n",
       "      <td>33.632000</td>\n",
       "    </tr>\n",
       "    <tr>\n",
       "      <th>475</th>\n",
       "      <td>E108</td>\n",
       "      <td>1</td>\n",
       "      <td>2</td>\n",
       "      <td>27</td>\n",
       "      <td>2</td>\n",
       "      <td>29</td>\n",
       "      <td>25</td>\n",
       "      <td>24</td>\n",
       "      <td>55</td>\n",
       "      <td>145</td>\n",
       "      <td>...</td>\n",
       "      <td>700.441000</td>\n",
       "      <td>8192.650000</td>\n",
       "      <td>44542.000000</td>\n",
       "      <td>30821.600000</td>\n",
       "      <td>1.130000</td>\n",
       "      <td>83556.200000</td>\n",
       "      <td>120.273000</td>\n",
       "      <td>12.343300</td>\n",
       "      <td>6.916330</td>\n",
       "      <td>34.365000</td>\n",
       "    </tr>\n",
       "    <tr>\n",
       "      <th>476</th>\n",
       "      <td>E108</td>\n",
       "      <td>2</td>\n",
       "      <td>2</td>\n",
       "      <td>27</td>\n",
       "      <td>2</td>\n",
       "      <td>19</td>\n",
       "      <td>16</td>\n",
       "      <td>19</td>\n",
       "      <td>45</td>\n",
       "      <td>151</td>\n",
       "      <td>...</td>\n",
       "      <td>279.414000</td>\n",
       "      <td>614.946000</td>\n",
       "      <td>1881.710000</td>\n",
       "      <td>2905.690000</td>\n",
       "      <td>0.769000</td>\n",
       "      <td>5402.340000</td>\n",
       "      <td>106.897000</td>\n",
       "      <td>13.395700</td>\n",
       "      <td>0.964333</td>\n",
       "      <td>33.771700</td>\n",
       "    </tr>\n",
       "    <tr>\n",
       "      <th>477</th>\n",
       "      <td>E108</td>\n",
       "      <td>3</td>\n",
       "      <td>2</td>\n",
       "      <td>27</td>\n",
       "      <td>2</td>\n",
       "      <td>15</td>\n",
       "      <td>12</td>\n",
       "      <td>20</td>\n",
       "      <td>46</td>\n",
       "      <td>158</td>\n",
       "      <td>...</td>\n",
       "      <td>35.886700</td>\n",
       "      <td>107.843000</td>\n",
       "      <td>67.178000</td>\n",
       "      <td>73.165000</td>\n",
       "      <td>0.937333</td>\n",
       "      <td>248.186000</td>\n",
       "      <td>76.818300</td>\n",
       "      <td>12.974000</td>\n",
       "      <td>0.279667</td>\n",
       "      <td>32.410300</td>\n",
       "    </tr>\n",
       "    <tr>\n",
       "      <th>478</th>\n",
       "      <td>E108</td>\n",
       "      <td>4</td>\n",
       "      <td>2</td>\n",
       "      <td>27</td>\n",
       "      <td>2</td>\n",
       "      <td>0</td>\n",
       "      <td>0</td>\n",
       "      <td>0</td>\n",
       "      <td>47</td>\n",
       "      <td>171</td>\n",
       "      <td>...</td>\n",
       "      <td>58.366700</td>\n",
       "      <td>256.127000</td>\n",
       "      <td>117.570000</td>\n",
       "      <td>75.007300</td>\n",
       "      <td>1.374670</td>\n",
       "      <td>448.704000</td>\n",
       "      <td>81.031300</td>\n",
       "      <td>13.845300</td>\n",
       "      <td>0.225333</td>\n",
       "      <td>31.623300</td>\n",
       "    </tr>\n",
       "  </tbody>\n",
       "</table>\n",
       "<p>479 rows × 93 columns</p>\n",
       "</div>"
      ],
      "text/plain": [
       "      sub  VISIT  disorder  age  gender  HAMD  HAMA  PDSS  ASI  APPQ  ...  \\\n",
       "0    E001      4         2   23       1     2     2     1   12    22  ...   \n",
       "1    E001      5         2   23       1    12     7     0   12    24  ...   \n",
       "2    E002      1         2   38       1    14    17    14   31   122  ...   \n",
       "3    E002      2         2   38       1    13    36    16   32   139  ...   \n",
       "4    E002      3         2   38       1     7    10    11   23    70  ...   \n",
       "..    ...    ...       ...  ...     ...   ...   ...   ...  ...   ...  ...   \n",
       "474  E107      5         2   33       2     3     8    13   34   106  ...   \n",
       "475  E108      1         2   27       2    29    25    24   55   145  ...   \n",
       "476  E108      2         2   27       2    19    16    19   45   151  ...   \n",
       "477  E108      3         2   27       2    15    12    20   46   158  ...   \n",
       "478  E108      4         2   27       2     0     0     0   47   171  ...   \n",
       "\n",
       "         cRMSSD         cVLF           cLF           cHF    cLF/HF  \\\n",
       "0     41.544667   190.107000    298.508333    206.862333  1.284000   \n",
       "1     39.825333   143.756667    115.695333    202.602667  0.585000   \n",
       "2     20.052000    22.006000     50.182000     32.529333  2.499333   \n",
       "3     20.201667    55.579000     84.441000     18.754000  5.803000   \n",
       "4     74.788000   182.229000    530.565667    546.574000  1.685667   \n",
       "..          ...          ...           ...           ...       ...   \n",
       "474   15.401300    52.557700     59.654300     35.842300  1.643670   \n",
       "475  700.441000  8192.650000  44542.000000  30821.600000  1.130000   \n",
       "476  279.414000   614.946000   1881.710000   2905.690000  0.769000   \n",
       "477   35.886700   107.843000     67.178000     73.165000  0.937333   \n",
       "478   58.366700   256.127000    117.570000     75.007300  1.374670   \n",
       "\n",
       "           cPOWER         cHR      cRESP       cSC      cTEMP  \n",
       "0      695.477333   65.707000  14.054333  3.911333  34.998000  \n",
       "1      462.054667   69.040000  14.117333  6.255000  35.544333  \n",
       "2      104.717000   92.789333  11.013333  0.945667  35.086000  \n",
       "3      158.774333   85.980667  12.608333  0.785667  36.141000  \n",
       "4     1259.368667   84.368667  14.285667  0.648000  35.879000  \n",
       "..            ...         ...        ...       ...        ...  \n",
       "474    148.054000   78.424000  16.512000  0.310333  33.632000  \n",
       "475  83556.200000  120.273000  12.343300  6.916330  34.365000  \n",
       "476   5402.340000  106.897000  13.395700  0.964333  33.771700  \n",
       "477    248.186000   76.818300  12.974000  0.279667  32.410300  \n",
       "478    448.704000   81.031300  13.845300  0.225333  31.623300  \n",
       "\n",
       "[479 rows x 93 columns]"
      ]
     },
     "execution_count": 43,
     "metadata": {},
     "output_type": "execute_result"
    }
   ],
   "source": [
    "# HRV 데이터셋 불러오기\n",
    "hrv_df = pd.read_csv('E:/RESEARCH/Datasets/HRV_samsung/HRV_REV_all.csv', sep=',')\n",
    "hrv_df"
   ]
  },
  {
   "cell_type": "code",
   "execution_count": 3,
   "id": "historical-proportion",
   "metadata": {},
   "outputs": [
    {
     "data": {
      "text/plain": [
       "(479, 93)"
      ]
     },
     "execution_count": 3,
     "metadata": {},
     "output_type": "execute_result"
    }
   ],
   "source": [
    "hrv_df.shape"
   ]
  },
  {
   "cell_type": "markdown",
   "id": "opening-nebraska",
   "metadata": {},
   "source": [
    "##### index 범주 만들어줄 항을 생성 및 범주화"
   ]
  },
  {
   "cell_type": "code",
   "execution_count": 4,
   "id": "brilliant-student",
   "metadata": {},
   "outputs": [],
   "source": [
    "hrv_df['IndexH']=0"
   ]
  },
  {
   "cell_type": "code",
   "execution_count": 5,
   "id": "acoustic-posting",
   "metadata": {},
   "outputs": [],
   "source": [
    "hrv_df.loc[hrv_df['HAMD']<=6, 'IndexH'] =0\n",
    "hrv_df.loc[(hrv_df['HAMD']>6) & (hrv_df['HAMA']<=17), 'IndexH'] = 1\n",
    "hrv_df.loc[(hrv_df['HAMD']>17) & (hrv_df['HAMA']<=25), 'IndexH'] = 2\n",
    "hrv_df.loc[hrv_df['HAMD']>25, 'IndexH'] = 3"
   ]
  },
  {
   "cell_type": "code",
   "execution_count": 6,
   "id": "expensive-diploma",
   "metadata": {},
   "outputs": [
    {
     "data": {
      "text/html": [
       "<div>\n",
       "<style scoped>\n",
       "    .dataframe tbody tr th:only-of-type {\n",
       "        vertical-align: middle;\n",
       "    }\n",
       "\n",
       "    .dataframe tbody tr th {\n",
       "        vertical-align: top;\n",
       "    }\n",
       "\n",
       "    .dataframe thead th {\n",
       "        text-align: right;\n",
       "    }\n",
       "</style>\n",
       "<table border=\"1\" class=\"dataframe\">\n",
       "  <thead>\n",
       "    <tr style=\"text-align: right;\">\n",
       "      <th></th>\n",
       "      <th>sub</th>\n",
       "      <th>VISIT</th>\n",
       "      <th>disorder</th>\n",
       "      <th>age</th>\n",
       "      <th>gender</th>\n",
       "      <th>HAMD</th>\n",
       "      <th>HAMA</th>\n",
       "      <th>PDSS</th>\n",
       "      <th>ASI</th>\n",
       "      <th>APPQ</th>\n",
       "      <th>...</th>\n",
       "      <th>cVLF</th>\n",
       "      <th>cLF</th>\n",
       "      <th>cHF</th>\n",
       "      <th>cLF/HF</th>\n",
       "      <th>cPOWER</th>\n",
       "      <th>cHR</th>\n",
       "      <th>cRESP</th>\n",
       "      <th>cSC</th>\n",
       "      <th>cTEMP</th>\n",
       "      <th>IndexH</th>\n",
       "    </tr>\n",
       "  </thead>\n",
       "  <tbody>\n",
       "    <tr>\n",
       "      <th>0</th>\n",
       "      <td>E001</td>\n",
       "      <td>4</td>\n",
       "      <td>2</td>\n",
       "      <td>23</td>\n",
       "      <td>1</td>\n",
       "      <td>2</td>\n",
       "      <td>2</td>\n",
       "      <td>1</td>\n",
       "      <td>12</td>\n",
       "      <td>22</td>\n",
       "      <td>...</td>\n",
       "      <td>190.107000</td>\n",
       "      <td>298.508333</td>\n",
       "      <td>206.862333</td>\n",
       "      <td>1.284000</td>\n",
       "      <td>695.477333</td>\n",
       "      <td>65.707000</td>\n",
       "      <td>14.054333</td>\n",
       "      <td>3.911333</td>\n",
       "      <td>34.998000</td>\n",
       "      <td>0</td>\n",
       "    </tr>\n",
       "    <tr>\n",
       "      <th>1</th>\n",
       "      <td>E001</td>\n",
       "      <td>5</td>\n",
       "      <td>2</td>\n",
       "      <td>23</td>\n",
       "      <td>1</td>\n",
       "      <td>12</td>\n",
       "      <td>7</td>\n",
       "      <td>0</td>\n",
       "      <td>12</td>\n",
       "      <td>24</td>\n",
       "      <td>...</td>\n",
       "      <td>143.756667</td>\n",
       "      <td>115.695333</td>\n",
       "      <td>202.602667</td>\n",
       "      <td>0.585000</td>\n",
       "      <td>462.054667</td>\n",
       "      <td>69.040000</td>\n",
       "      <td>14.117333</td>\n",
       "      <td>6.255000</td>\n",
       "      <td>35.544333</td>\n",
       "      <td>1</td>\n",
       "    </tr>\n",
       "    <tr>\n",
       "      <th>2</th>\n",
       "      <td>E002</td>\n",
       "      <td>1</td>\n",
       "      <td>2</td>\n",
       "      <td>38</td>\n",
       "      <td>1</td>\n",
       "      <td>14</td>\n",
       "      <td>17</td>\n",
       "      <td>14</td>\n",
       "      <td>31</td>\n",
       "      <td>122</td>\n",
       "      <td>...</td>\n",
       "      <td>22.006000</td>\n",
       "      <td>50.182000</td>\n",
       "      <td>32.529333</td>\n",
       "      <td>2.499333</td>\n",
       "      <td>104.717000</td>\n",
       "      <td>92.789333</td>\n",
       "      <td>11.013333</td>\n",
       "      <td>0.945667</td>\n",
       "      <td>35.086000</td>\n",
       "      <td>1</td>\n",
       "    </tr>\n",
       "    <tr>\n",
       "      <th>3</th>\n",
       "      <td>E002</td>\n",
       "      <td>2</td>\n",
       "      <td>2</td>\n",
       "      <td>38</td>\n",
       "      <td>1</td>\n",
       "      <td>13</td>\n",
       "      <td>36</td>\n",
       "      <td>16</td>\n",
       "      <td>32</td>\n",
       "      <td>139</td>\n",
       "      <td>...</td>\n",
       "      <td>55.579000</td>\n",
       "      <td>84.441000</td>\n",
       "      <td>18.754000</td>\n",
       "      <td>5.803000</td>\n",
       "      <td>158.774333</td>\n",
       "      <td>85.980667</td>\n",
       "      <td>12.608333</td>\n",
       "      <td>0.785667</td>\n",
       "      <td>36.141000</td>\n",
       "      <td>0</td>\n",
       "    </tr>\n",
       "    <tr>\n",
       "      <th>4</th>\n",
       "      <td>E002</td>\n",
       "      <td>3</td>\n",
       "      <td>2</td>\n",
       "      <td>38</td>\n",
       "      <td>1</td>\n",
       "      <td>7</td>\n",
       "      <td>10</td>\n",
       "      <td>11</td>\n",
       "      <td>23</td>\n",
       "      <td>70</td>\n",
       "      <td>...</td>\n",
       "      <td>182.229000</td>\n",
       "      <td>530.565667</td>\n",
       "      <td>546.574000</td>\n",
       "      <td>1.685667</td>\n",
       "      <td>1259.368667</td>\n",
       "      <td>84.368667</td>\n",
       "      <td>14.285667</td>\n",
       "      <td>0.648000</td>\n",
       "      <td>35.879000</td>\n",
       "      <td>1</td>\n",
       "    </tr>\n",
       "  </tbody>\n",
       "</table>\n",
       "<p>5 rows × 94 columns</p>\n",
       "</div>"
      ],
      "text/plain": [
       "    sub  VISIT  disorder  age  gender  HAMD  HAMA  PDSS  ASI  APPQ  ...  \\\n",
       "0  E001      4         2   23       1     2     2     1   12    22  ...   \n",
       "1  E001      5         2   23       1    12     7     0   12    24  ...   \n",
       "2  E002      1         2   38       1    14    17    14   31   122  ...   \n",
       "3  E002      2         2   38       1    13    36    16   32   139  ...   \n",
       "4  E002      3         2   38       1     7    10    11   23    70  ...   \n",
       "\n",
       "         cVLF         cLF         cHF    cLF/HF       cPOWER        cHR  \\\n",
       "0  190.107000  298.508333  206.862333  1.284000   695.477333  65.707000   \n",
       "1  143.756667  115.695333  202.602667  0.585000   462.054667  69.040000   \n",
       "2   22.006000   50.182000   32.529333  2.499333   104.717000  92.789333   \n",
       "3   55.579000   84.441000   18.754000  5.803000   158.774333  85.980667   \n",
       "4  182.229000  530.565667  546.574000  1.685667  1259.368667  84.368667   \n",
       "\n",
       "       cRESP       cSC      cTEMP  IndexH  \n",
       "0  14.054333  3.911333  34.998000       0  \n",
       "1  14.117333  6.255000  35.544333       1  \n",
       "2  11.013333  0.945667  35.086000       1  \n",
       "3  12.608333  0.785667  36.141000       0  \n",
       "4  14.285667  0.648000  35.879000       1  \n",
       "\n",
       "[5 rows x 94 columns]"
      ]
     },
     "execution_count": 6,
     "metadata": {},
     "output_type": "execute_result"
    }
   ],
   "source": [
    "hrv_df.head() #제대로 분류되었는지 확인"
   ]
  },
  {
   "cell_type": "code",
   "execution_count": null,
   "id": "round-switzerland",
   "metadata": {},
   "outputs": [],
   "source": []
  },
  {
   "cell_type": "code",
   "execution_count": 7,
   "id": "gorgeous-sensitivity",
   "metadata": {},
   "outputs": [
    {
     "data": {
      "text/html": [
       "<div>\n",
       "<style scoped>\n",
       "    .dataframe tbody tr th:only-of-type {\n",
       "        vertical-align: middle;\n",
       "    }\n",
       "\n",
       "    .dataframe tbody tr th {\n",
       "        vertical-align: top;\n",
       "    }\n",
       "\n",
       "    .dataframe thead th {\n",
       "        text-align: right;\n",
       "    }\n",
       "</style>\n",
       "<table border=\"1\" class=\"dataframe\">\n",
       "  <thead>\n",
       "    <tr style=\"text-align: right;\">\n",
       "      <th></th>\n",
       "      <th>age</th>\n",
       "      <th>gender</th>\n",
       "      <th>b1SDNN</th>\n",
       "      <th>b1NN50</th>\n",
       "      <th>b1PNN50</th>\n",
       "      <th>b1RMSSD</th>\n",
       "      <th>b1VLF</th>\n",
       "      <th>b1LF</th>\n",
       "      <th>b1HF</th>\n",
       "      <th>b1LF/HF</th>\n",
       "      <th>...</th>\n",
       "      <th>cRMSSD</th>\n",
       "      <th>cVLF</th>\n",
       "      <th>cLF</th>\n",
       "      <th>cHF</th>\n",
       "      <th>cLF/HF</th>\n",
       "      <th>cPOWER</th>\n",
       "      <th>cHR</th>\n",
       "      <th>cRESP</th>\n",
       "      <th>cSC</th>\n",
       "      <th>cTEMP</th>\n",
       "    </tr>\n",
       "  </thead>\n",
       "  <tbody>\n",
       "    <tr>\n",
       "      <th>0</th>\n",
       "      <td>23</td>\n",
       "      <td>1</td>\n",
       "      <td>53.113667</td>\n",
       "      <td>14.333333</td>\n",
       "      <td>0.233000</td>\n",
       "      <td>56.151000</td>\n",
       "      <td>100.156000</td>\n",
       "      <td>99.322333</td>\n",
       "      <td>315.010667</td>\n",
       "      <td>0.319333</td>\n",
       "      <td>...</td>\n",
       "      <td>41.544667</td>\n",
       "      <td>190.107000</td>\n",
       "      <td>298.508333</td>\n",
       "      <td>206.862333</td>\n",
       "      <td>1.284000</td>\n",
       "      <td>695.477333</td>\n",
       "      <td>65.707000</td>\n",
       "      <td>14.054333</td>\n",
       "      <td>3.911333</td>\n",
       "      <td>34.998000</td>\n",
       "    </tr>\n",
       "    <tr>\n",
       "      <th>1</th>\n",
       "      <td>23</td>\n",
       "      <td>1</td>\n",
       "      <td>45.919000</td>\n",
       "      <td>13.666667</td>\n",
       "      <td>0.210000</td>\n",
       "      <td>46.576000</td>\n",
       "      <td>101.827333</td>\n",
       "      <td>204.858333</td>\n",
       "      <td>235.766333</td>\n",
       "      <td>0.914667</td>\n",
       "      <td>...</td>\n",
       "      <td>39.825333</td>\n",
       "      <td>143.756667</td>\n",
       "      <td>115.695333</td>\n",
       "      <td>202.602667</td>\n",
       "      <td>0.585000</td>\n",
       "      <td>462.054667</td>\n",
       "      <td>69.040000</td>\n",
       "      <td>14.117333</td>\n",
       "      <td>6.255000</td>\n",
       "      <td>35.544333</td>\n",
       "    </tr>\n",
       "    <tr>\n",
       "      <th>2</th>\n",
       "      <td>38</td>\n",
       "      <td>1</td>\n",
       "      <td>26.377667</td>\n",
       "      <td>0.000000</td>\n",
       "      <td>0.000000</td>\n",
       "      <td>15.102000</td>\n",
       "      <td>131.038333</td>\n",
       "      <td>88.803333</td>\n",
       "      <td>42.704000</td>\n",
       "      <td>2.854667</td>\n",
       "      <td>...</td>\n",
       "      <td>20.052000</td>\n",
       "      <td>22.006000</td>\n",
       "      <td>50.182000</td>\n",
       "      <td>32.529333</td>\n",
       "      <td>2.499333</td>\n",
       "      <td>104.717000</td>\n",
       "      <td>92.789333</td>\n",
       "      <td>11.013333</td>\n",
       "      <td>0.945667</td>\n",
       "      <td>35.086000</td>\n",
       "    </tr>\n",
       "    <tr>\n",
       "      <th>3</th>\n",
       "      <td>38</td>\n",
       "      <td>1</td>\n",
       "      <td>24.147333</td>\n",
       "      <td>0.000000</td>\n",
       "      <td>0.000000</td>\n",
       "      <td>13.519333</td>\n",
       "      <td>132.222000</td>\n",
       "      <td>177.344000</td>\n",
       "      <td>47.517000</td>\n",
       "      <td>4.686333</td>\n",
       "      <td>...</td>\n",
       "      <td>20.201667</td>\n",
       "      <td>55.579000</td>\n",
       "      <td>84.441000</td>\n",
       "      <td>18.754000</td>\n",
       "      <td>5.803000</td>\n",
       "      <td>158.774333</td>\n",
       "      <td>85.980667</td>\n",
       "      <td>12.608333</td>\n",
       "      <td>0.785667</td>\n",
       "      <td>36.141000</td>\n",
       "    </tr>\n",
       "    <tr>\n",
       "      <th>4</th>\n",
       "      <td>38</td>\n",
       "      <td>1</td>\n",
       "      <td>79.460333</td>\n",
       "      <td>6.000000</td>\n",
       "      <td>0.066333</td>\n",
       "      <td>87.518667</td>\n",
       "      <td>84.822667</td>\n",
       "      <td>326.738667</td>\n",
       "      <td>303.335333</td>\n",
       "      <td>0.817333</td>\n",
       "      <td>...</td>\n",
       "      <td>74.788000</td>\n",
       "      <td>182.229000</td>\n",
       "      <td>530.565667</td>\n",
       "      <td>546.574000</td>\n",
       "      <td>1.685667</td>\n",
       "      <td>1259.368667</td>\n",
       "      <td>84.368667</td>\n",
       "      <td>14.285667</td>\n",
       "      <td>0.648000</td>\n",
       "      <td>35.879000</td>\n",
       "    </tr>\n",
       "  </tbody>\n",
       "</table>\n",
       "<p>5 rows × 80 columns</p>\n",
       "</div>"
      ],
      "text/plain": [
       "   age  gender     b1SDNN     b1NN50   b1PNN50    b1RMSSD       b1VLF  \\\n",
       "0   23       1  53.113667  14.333333  0.233000  56.151000  100.156000   \n",
       "1   23       1  45.919000  13.666667  0.210000  46.576000  101.827333   \n",
       "2   38       1  26.377667   0.000000  0.000000  15.102000  131.038333   \n",
       "3   38       1  24.147333   0.000000  0.000000  13.519333  132.222000   \n",
       "4   38       1  79.460333   6.000000  0.066333  87.518667   84.822667   \n",
       "\n",
       "         b1LF        b1HF   b1LF/HF  ...     cRMSSD        cVLF         cLF  \\\n",
       "0   99.322333  315.010667  0.319333  ...  41.544667  190.107000  298.508333   \n",
       "1  204.858333  235.766333  0.914667  ...  39.825333  143.756667  115.695333   \n",
       "2   88.803333   42.704000  2.854667  ...  20.052000   22.006000   50.182000   \n",
       "3  177.344000   47.517000  4.686333  ...  20.201667   55.579000   84.441000   \n",
       "4  326.738667  303.335333  0.817333  ...  74.788000  182.229000  530.565667   \n",
       "\n",
       "          cHF    cLF/HF       cPOWER        cHR      cRESP       cSC  \\\n",
       "0  206.862333  1.284000   695.477333  65.707000  14.054333  3.911333   \n",
       "1  202.602667  0.585000   462.054667  69.040000  14.117333  6.255000   \n",
       "2   32.529333  2.499333   104.717000  92.789333  11.013333  0.945667   \n",
       "3   18.754000  5.803000   158.774333  85.980667  12.608333  0.785667   \n",
       "4  546.574000  1.685667  1259.368667  84.368667  14.285667  0.648000   \n",
       "\n",
       "       cTEMP  \n",
       "0  34.998000  \n",
       "1  35.544333  \n",
       "2  35.086000  \n",
       "3  36.141000  \n",
       "4  35.879000  \n",
       "\n",
       "[5 rows x 80 columns]"
      ]
     },
     "execution_count": 7,
     "metadata": {},
     "output_type": "execute_result"
    }
   ],
   "source": [
    "#disorder, sub, Visit, 10개변수 값은 pixel에 넣지 않음. (총 13개 제거)\n",
    "hrv_drop = hrv_df.drop(['sub','disorder','VISIT','HAMD', 'HAMA','PDSS','ASI','APPQ','PSWQ','SPI','PSS','BIS','SSI','IndexH'], axis=1)\n",
    "# hrv_drop = hrv_df.drop(['sub','disorder','VISIT','HAMD', 'HAMA','PDSS','ASI','APPQ','PSWQ','SPI','PSS','BIS','SSI'], axis=1)\n",
    "hrv_drop.head()"
   ]
  },
  {
   "cell_type": "code",
   "execution_count": 8,
   "id": "expressed-northeast",
   "metadata": {},
   "outputs": [],
   "source": [
    "# target을 disorder로 놓으면\n",
    "y = hrv_df.loc[:,['IndexH']]"
   ]
  },
  {
   "cell_type": "code",
   "execution_count": 9,
   "id": "brown-peninsula",
   "metadata": {},
   "outputs": [
    {
     "data": {
      "text/html": [
       "<div>\n",
       "<style scoped>\n",
       "    .dataframe tbody tr th:only-of-type {\n",
       "        vertical-align: middle;\n",
       "    }\n",
       "\n",
       "    .dataframe tbody tr th {\n",
       "        vertical-align: top;\n",
       "    }\n",
       "\n",
       "    .dataframe thead th {\n",
       "        text-align: right;\n",
       "    }\n",
       "</style>\n",
       "<table border=\"1\" class=\"dataframe\">\n",
       "  <thead>\n",
       "    <tr style=\"text-align: right;\">\n",
       "      <th></th>\n",
       "      <th>IndexH</th>\n",
       "    </tr>\n",
       "  </thead>\n",
       "  <tbody>\n",
       "    <tr>\n",
       "      <th>0</th>\n",
       "      <td>0</td>\n",
       "    </tr>\n",
       "    <tr>\n",
       "      <th>1</th>\n",
       "      <td>1</td>\n",
       "    </tr>\n",
       "    <tr>\n",
       "      <th>2</th>\n",
       "      <td>1</td>\n",
       "    </tr>\n",
       "    <tr>\n",
       "      <th>3</th>\n",
       "      <td>0</td>\n",
       "    </tr>\n",
       "    <tr>\n",
       "      <th>4</th>\n",
       "      <td>1</td>\n",
       "    </tr>\n",
       "    <tr>\n",
       "      <th>...</th>\n",
       "      <td>...</td>\n",
       "    </tr>\n",
       "    <tr>\n",
       "      <th>474</th>\n",
       "      <td>0</td>\n",
       "    </tr>\n",
       "    <tr>\n",
       "      <th>475</th>\n",
       "      <td>3</td>\n",
       "    </tr>\n",
       "    <tr>\n",
       "      <th>476</th>\n",
       "      <td>2</td>\n",
       "    </tr>\n",
       "    <tr>\n",
       "      <th>477</th>\n",
       "      <td>1</td>\n",
       "    </tr>\n",
       "    <tr>\n",
       "      <th>478</th>\n",
       "      <td>0</td>\n",
       "    </tr>\n",
       "  </tbody>\n",
       "</table>\n",
       "<p>479 rows × 1 columns</p>\n",
       "</div>"
      ],
      "text/plain": [
       "     IndexH\n",
       "0         0\n",
       "1         1\n",
       "2         1\n",
       "3         0\n",
       "4         1\n",
       "..      ...\n",
       "474       0\n",
       "475       3\n",
       "476       2\n",
       "477       1\n",
       "478       0\n",
       "\n",
       "[479 rows x 1 columns]"
      ]
     },
     "execution_count": 9,
     "metadata": {},
     "output_type": "execute_result"
    }
   ],
   "source": [
    "y"
   ]
  },
  {
   "cell_type": "code",
   "execution_count": 10,
   "id": "fifteen-raleigh",
   "metadata": {},
   "outputs": [],
   "source": [
    "# 환자만 따로 뽑으면\n",
    "patient = hrv_df.loc[:, ['sub']]"
   ]
  },
  {
   "cell_type": "code",
   "execution_count": 11,
   "id": "latest-pizza",
   "metadata": {},
   "outputs": [],
   "source": [
    "x = hrv_drop"
   ]
  },
  {
   "cell_type": "markdown",
   "id": "removable-hungary",
   "metadata": {},
   "source": [
    "##### 이제 총 81개의 column으로 구성되었으니까 우선 normalization 하자 (0~1 사이 값으로 범위변환)"
   ]
  },
  {
   "cell_type": "code",
   "execution_count": 12,
   "id": "determined-personal",
   "metadata": {},
   "outputs": [],
   "source": [
    "from sklearn.preprocessing import StandardScaler\n",
    "scaler = StandardScaler()\n",
    "hrv_drop[:] = scaler.fit_transform(hrv_drop[:])"
   ]
  },
  {
   "cell_type": "code",
   "execution_count": 13,
   "id": "suspected-decimal",
   "metadata": {},
   "outputs": [
    {
     "data": {
      "text/html": [
       "<div>\n",
       "<style scoped>\n",
       "    .dataframe tbody tr th:only-of-type {\n",
       "        vertical-align: middle;\n",
       "    }\n",
       "\n",
       "    .dataframe tbody tr th {\n",
       "        vertical-align: top;\n",
       "    }\n",
       "\n",
       "    .dataframe thead th {\n",
       "        text-align: right;\n",
       "    }\n",
       "</style>\n",
       "<table border=\"1\" class=\"dataframe\">\n",
       "  <thead>\n",
       "    <tr style=\"text-align: right;\">\n",
       "      <th></th>\n",
       "      <th>age</th>\n",
       "      <th>gender</th>\n",
       "      <th>b1SDNN</th>\n",
       "      <th>b1NN50</th>\n",
       "      <th>b1PNN50</th>\n",
       "      <th>b1RMSSD</th>\n",
       "      <th>b1VLF</th>\n",
       "      <th>b1LF</th>\n",
       "      <th>b1HF</th>\n",
       "      <th>b1LF/HF</th>\n",
       "      <th>...</th>\n",
       "      <th>cRMSSD</th>\n",
       "      <th>cVLF</th>\n",
       "      <th>cLF</th>\n",
       "      <th>cHF</th>\n",
       "      <th>cLF/HF</th>\n",
       "      <th>cPOWER</th>\n",
       "      <th>cHR</th>\n",
       "      <th>cRESP</th>\n",
       "      <th>cSC</th>\n",
       "      <th>cTEMP</th>\n",
       "    </tr>\n",
       "  </thead>\n",
       "  <tbody>\n",
       "    <tr>\n",
       "      <th>0</th>\n",
       "      <td>-1.277935</td>\n",
       "      <td>-1.312094</td>\n",
       "      <td>0.222850</td>\n",
       "      <td>1.889593</td>\n",
       "      <td>2.212832</td>\n",
       "      <td>0.192138</td>\n",
       "      <td>-0.087836</td>\n",
       "      <td>-0.103956</td>\n",
       "      <td>-0.067502</td>\n",
       "      <td>-0.679771</td>\n",
       "      <td>...</td>\n",
       "      <td>-0.012434</td>\n",
       "      <td>-0.080355</td>\n",
       "      <td>-0.085651</td>\n",
       "      <td>-0.084088</td>\n",
       "      <td>-0.613387</td>\n",
       "      <td>-0.087092</td>\n",
       "      <td>-0.814325</td>\n",
       "      <td>0.661662</td>\n",
       "      <td>1.449436</td>\n",
       "      <td>0.429974</td>\n",
       "    </tr>\n",
       "    <tr>\n",
       "      <th>1</th>\n",
       "      <td>-1.277935</td>\n",
       "      <td>-1.312094</td>\n",
       "      <td>0.083066</td>\n",
       "      <td>1.771122</td>\n",
       "      <td>1.929051</td>\n",
       "      <td>0.060696</td>\n",
       "      <td>-0.087651</td>\n",
       "      <td>-0.095142</td>\n",
       "      <td>-0.083695</td>\n",
       "      <td>-0.484360</td>\n",
       "      <td>...</td>\n",
       "      <td>-0.033415</td>\n",
       "      <td>-0.087077</td>\n",
       "      <td>-0.099528</td>\n",
       "      <td>-0.084722</td>\n",
       "      <td>-0.761271</td>\n",
       "      <td>-0.096138</td>\n",
       "      <td>-0.522467</td>\n",
       "      <td>0.704500</td>\n",
       "      <td>2.752076</td>\n",
       "      <td>0.806835</td>\n",
       "    </tr>\n",
       "    <tr>\n",
       "      <th>2</th>\n",
       "      <td>-0.296537</td>\n",
       "      <td>-1.312094</td>\n",
       "      <td>-0.296598</td>\n",
       "      <td>-0.657524</td>\n",
       "      <td>-0.661992</td>\n",
       "      <td>-0.371365</td>\n",
       "      <td>-0.084411</td>\n",
       "      <td>-0.104834</td>\n",
       "      <td>-0.123147</td>\n",
       "      <td>0.152424</td>\n",
       "      <td>...</td>\n",
       "      <td>-0.274717</td>\n",
       "      <td>-0.104731</td>\n",
       "      <td>-0.104501</td>\n",
       "      <td>-0.110031</td>\n",
       "      <td>-0.356265</td>\n",
       "      <td>-0.109984</td>\n",
       "      <td>1.557171</td>\n",
       "      <td>-1.406125</td>\n",
       "      <td>-0.198920</td>\n",
       "      <td>0.490677</td>\n",
       "    </tr>\n",
       "    <tr>\n",
       "      <th>3</th>\n",
       "      <td>-0.296537</td>\n",
       "      <td>-1.312094</td>\n",
       "      <td>-0.339931</td>\n",
       "      <td>-0.657524</td>\n",
       "      <td>-0.661992</td>\n",
       "      <td>-0.393091</td>\n",
       "      <td>-0.084280</td>\n",
       "      <td>-0.097440</td>\n",
       "      <td>-0.122163</td>\n",
       "      <td>0.753648</td>\n",
       "      <td>...</td>\n",
       "      <td>-0.272890</td>\n",
       "      <td>-0.099863</td>\n",
       "      <td>-0.101900</td>\n",
       "      <td>-0.112081</td>\n",
       "      <td>0.342676</td>\n",
       "      <td>-0.107890</td>\n",
       "      <td>0.960962</td>\n",
       "      <td>-0.321574</td>\n",
       "      <td>-0.287850</td>\n",
       "      <td>1.218416</td>\n",
       "    </tr>\n",
       "    <tr>\n",
       "      <th>4</th>\n",
       "      <td>-0.296537</td>\n",
       "      <td>-1.312094</td>\n",
       "      <td>0.734733</td>\n",
       "      <td>0.408711</td>\n",
       "      <td>0.156448</td>\n",
       "      <td>0.622739</td>\n",
       "      <td>-0.089537</td>\n",
       "      <td>-0.084963</td>\n",
       "      <td>-0.069888</td>\n",
       "      <td>-0.516308</td>\n",
       "      <td>...</td>\n",
       "      <td>0.393247</td>\n",
       "      <td>-0.081498</td>\n",
       "      <td>-0.068036</td>\n",
       "      <td>-0.033533</td>\n",
       "      <td>-0.528408</td>\n",
       "      <td>-0.065241</td>\n",
       "      <td>0.819805</td>\n",
       "      <td>0.818961</td>\n",
       "      <td>-0.364367</td>\n",
       "      <td>1.037688</td>\n",
       "    </tr>\n",
       "  </tbody>\n",
       "</table>\n",
       "<p>5 rows × 80 columns</p>\n",
       "</div>"
      ],
      "text/plain": [
       "        age    gender    b1SDNN    b1NN50   b1PNN50   b1RMSSD     b1VLF  \\\n",
       "0 -1.277935 -1.312094  0.222850  1.889593  2.212832  0.192138 -0.087836   \n",
       "1 -1.277935 -1.312094  0.083066  1.771122  1.929051  0.060696 -0.087651   \n",
       "2 -0.296537 -1.312094 -0.296598 -0.657524 -0.661992 -0.371365 -0.084411   \n",
       "3 -0.296537 -1.312094 -0.339931 -0.657524 -0.661992 -0.393091 -0.084280   \n",
       "4 -0.296537 -1.312094  0.734733  0.408711  0.156448  0.622739 -0.089537   \n",
       "\n",
       "       b1LF      b1HF   b1LF/HF  ...    cRMSSD      cVLF       cLF       cHF  \\\n",
       "0 -0.103956 -0.067502 -0.679771  ... -0.012434 -0.080355 -0.085651 -0.084088   \n",
       "1 -0.095142 -0.083695 -0.484360  ... -0.033415 -0.087077 -0.099528 -0.084722   \n",
       "2 -0.104834 -0.123147  0.152424  ... -0.274717 -0.104731 -0.104501 -0.110031   \n",
       "3 -0.097440 -0.122163  0.753648  ... -0.272890 -0.099863 -0.101900 -0.112081   \n",
       "4 -0.084963 -0.069888 -0.516308  ...  0.393247 -0.081498 -0.068036 -0.033533   \n",
       "\n",
       "     cLF/HF    cPOWER       cHR     cRESP       cSC     cTEMP  \n",
       "0 -0.613387 -0.087092 -0.814325  0.661662  1.449436  0.429974  \n",
       "1 -0.761271 -0.096138 -0.522467  0.704500  2.752076  0.806835  \n",
       "2 -0.356265 -0.109984  1.557171 -1.406125 -0.198920  0.490677  \n",
       "3  0.342676 -0.107890  0.960962 -0.321574 -0.287850  1.218416  \n",
       "4 -0.528408 -0.065241  0.819805  0.818961 -0.364367  1.037688  \n",
       "\n",
       "[5 rows x 80 columns]"
      ]
     },
     "execution_count": 13,
     "metadata": {},
     "output_type": "execute_result"
    }
   ],
   "source": [
    "hrv_drop.head()"
   ]
  },
  {
   "cell_type": "code",
   "execution_count": 14,
   "id": "early-country",
   "metadata": {},
   "outputs": [],
   "source": [
    "hrv_drop = hrv_drop.dropna()"
   ]
  },
  {
   "cell_type": "code",
   "execution_count": 80,
   "id": "understanding-electron",
   "metadata": {},
   "outputs": [
    {
     "name": "stdout",
     "output_type": "stream",
     "text": [
      "383\n",
      "96\n",
      "383\n",
      "96\n"
     ]
    }
   ],
   "source": [
    "from sklearn.model_selection import train_test_split\n",
    "\n",
    "x_train, x_test, y_train, y_test = train_test_split(x, y, test_size=0.2, random_state=100)\n",
    "print(len(x_train))\n",
    "print(len(x_test))\n",
    "print(len(y_train))\n",
    "print(len(y_test))"
   ]
  },
  {
   "cell_type": "code",
   "execution_count": 81,
   "id": "isolated-tunnel",
   "metadata": {},
   "outputs": [
    {
     "data": {
      "text/html": [
       "<div>\n",
       "<style scoped>\n",
       "    .dataframe tbody tr th:only-of-type {\n",
       "        vertical-align: middle;\n",
       "    }\n",
       "\n",
       "    .dataframe tbody tr th {\n",
       "        vertical-align: top;\n",
       "    }\n",
       "\n",
       "    .dataframe thead th {\n",
       "        text-align: right;\n",
       "    }\n",
       "</style>\n",
       "<table border=\"1\" class=\"dataframe\">\n",
       "  <thead>\n",
       "    <tr style=\"text-align: right;\">\n",
       "      <th></th>\n",
       "      <th>IndexH</th>\n",
       "    </tr>\n",
       "  </thead>\n",
       "  <tbody>\n",
       "    <tr>\n",
       "      <th>50</th>\n",
       "      <td>1</td>\n",
       "    </tr>\n",
       "    <tr>\n",
       "      <th>78</th>\n",
       "      <td>1</td>\n",
       "    </tr>\n",
       "    <tr>\n",
       "      <th>430</th>\n",
       "      <td>2</td>\n",
       "    </tr>\n",
       "    <tr>\n",
       "      <th>197</th>\n",
       "      <td>0</td>\n",
       "    </tr>\n",
       "    <tr>\n",
       "      <th>149</th>\n",
       "      <td>0</td>\n",
       "    </tr>\n",
       "    <tr>\n",
       "      <th>...</th>\n",
       "      <td>...</td>\n",
       "    </tr>\n",
       "    <tr>\n",
       "      <th>343</th>\n",
       "      <td>0</td>\n",
       "    </tr>\n",
       "    <tr>\n",
       "      <th>359</th>\n",
       "      <td>0</td>\n",
       "    </tr>\n",
       "    <tr>\n",
       "      <th>323</th>\n",
       "      <td>0</td>\n",
       "    </tr>\n",
       "    <tr>\n",
       "      <th>280</th>\n",
       "      <td>1</td>\n",
       "    </tr>\n",
       "    <tr>\n",
       "      <th>8</th>\n",
       "      <td>1</td>\n",
       "    </tr>\n",
       "  </tbody>\n",
       "</table>\n",
       "<p>383 rows × 1 columns</p>\n",
       "</div>"
      ],
      "text/plain": [
       "     IndexH\n",
       "50        1\n",
       "78        1\n",
       "430       2\n",
       "197       0\n",
       "149       0\n",
       "..      ...\n",
       "343       0\n",
       "359       0\n",
       "323       0\n",
       "280       1\n",
       "8         1\n",
       "\n",
       "[383 rows x 1 columns]"
      ]
     },
     "execution_count": 81,
     "metadata": {},
     "output_type": "execute_result"
    }
   ],
   "source": [
    "y_train"
   ]
  },
  {
   "cell_type": "code",
   "execution_count": 82,
   "id": "seventh-crash",
   "metadata": {},
   "outputs": [
    {
     "data": {
      "text/plain": [
       "age        0\n",
       "gender     0\n",
       "b1SDNN     0\n",
       "b1NN50     0\n",
       "b1PNN50    0\n",
       "          ..\n",
       "cPOWER     0\n",
       "cHR        0\n",
       "cRESP      0\n",
       "cSC        0\n",
       "cTEMP      0\n",
       "Length: 80, dtype: int64"
      ]
     },
     "execution_count": 82,
     "metadata": {},
     "output_type": "execute_result"
    }
   ],
   "source": [
    "hrv_drop.isnull().sum()"
   ]
  },
  {
   "cell_type": "code",
   "execution_count": 83,
   "id": "loose-girlfriend",
   "metadata": {},
   "outputs": [
    {
     "name": "stderr",
     "output_type": "stream",
     "text": [
      "c:\\users\\user\\anaconda3\\envs\\mlprac\\lib\\site-packages\\sklearn\\utils\\validation.py:63: DataConversionWarning: A column-vector y was passed when a 1d array was expected. Please change the shape of y to (n_samples, ), for example using ravel().\n",
      "  return f(*args, **kwargs)\n",
      "c:\\users\\user\\anaconda3\\envs\\mlprac\\lib\\site-packages\\sklearn\\linear_model\\_logistic.py:765: ConvergenceWarning: lbfgs failed to converge (status=1):\n",
      "STOP: TOTAL NO. of ITERATIONS REACHED LIMIT.\n",
      "\n",
      "Increase the number of iterations (max_iter) or scale the data as shown in:\n",
      "    https://scikit-learn.org/stable/modules/preprocessing.html\n",
      "Please also refer to the documentation for alternative solver options:\n",
      "    https://scikit-learn.org/stable/modules/linear_model.html#logistic-regression\n",
      "  extra_warning_msg=_LOGISTIC_SOLVER_CONVERGENCE_MSG)\n"
     ]
    },
    {
     "data": {
      "text/plain": [
       "LogisticRegression()"
      ]
     },
     "execution_count": 83,
     "metadata": {},
     "output_type": "execute_result"
    }
   ],
   "source": [
    "model = LogisticRegression()\n",
    "model.fit(x_train, y_train)"
   ]
  },
  {
   "cell_type": "code",
   "execution_count": 84,
   "id": "other-fifteen",
   "metadata": {},
   "outputs": [
    {
     "name": "stdout",
     "output_type": "stream",
     "text": [
      "0.7467362924281984\n"
     ]
    }
   ],
   "source": [
    "print(model.score(x_train, y_train))"
   ]
  },
  {
   "cell_type": "code",
   "execution_count": 85,
   "id": "binary-comparison",
   "metadata": {},
   "outputs": [
    {
     "data": {
      "text/plain": [
       "(479, 80)"
      ]
     },
     "execution_count": 85,
     "metadata": {},
     "output_type": "execute_result"
    }
   ],
   "source": [
    "x.shape"
   ]
  },
  {
   "cell_type": "code",
   "execution_count": 86,
   "id": "appropriate-thomas",
   "metadata": {},
   "outputs": [
    {
     "data": {
      "text/plain": [
       "(479, 1)"
      ]
     },
     "execution_count": 86,
     "metadata": {},
     "output_type": "execute_result"
    }
   ],
   "source": [
    "y.shape"
   ]
  },
  {
   "cell_type": "code",
   "execution_count": null,
   "id": "junior-annotation",
   "metadata": {},
   "outputs": [],
   "source": []
  },
  {
   "cell_type": "code",
   "execution_count": null,
   "id": "armed-niagara",
   "metadata": {},
   "outputs": [],
   "source": []
  },
  {
   "cell_type": "code",
   "execution_count": null,
   "id": "aggressive-bubble",
   "metadata": {},
   "outputs": [],
   "source": []
  },
  {
   "cell_type": "code",
   "execution_count": null,
   "id": "hidden-founder",
   "metadata": {},
   "outputs": [],
   "source": []
  },
  {
   "cell_type": "markdown",
   "id": "electronic-papua",
   "metadata": {},
   "source": [
    "#### 시도 1"
   ]
  },
  {
   "cell_type": "code",
   "execution_count": 87,
   "id": "alternative-relationship",
   "metadata": {},
   "outputs": [],
   "source": [
    "from sklearn.datasets import load_iris, load_breast_cancer # dataset \n",
    "from sklearn.linear_model import LogisticRegression # 모델 생성 \n",
    "from sklearn.metrics import accuracy_score, confusion_matrix # 분류정확도, 교차분할표 : 모델 평가 "
   ]
  },
  {
   "cell_type": "code",
   "execution_count": 88,
   "id": "voluntary-blair",
   "metadata": {},
   "outputs": [
    {
     "name": "stderr",
     "output_type": "stream",
     "text": [
      "c:\\users\\user\\anaconda3\\envs\\mlprac\\lib\\site-packages\\sklearn\\utils\\validation.py:63: DataConversionWarning: A column-vector y was passed when a 1d array was expected. Please change the shape of y to (n_samples, ), for example using ravel().\n",
      "  return f(*args, **kwargs)\n",
      "c:\\users\\user\\anaconda3\\envs\\mlprac\\lib\\site-packages\\sklearn\\linear_model\\_logistic.py:765: ConvergenceWarning: lbfgs failed to converge (status=1):\n",
      "STOP: TOTAL NO. of ITERATIONS REACHED LIMIT.\n",
      "\n",
      "Increase the number of iterations (max_iter) or scale the data as shown in:\n",
      "    https://scikit-learn.org/stable/modules/preprocessing.html\n",
      "Please also refer to the documentation for alternative solver options:\n",
      "    https://scikit-learn.org/stable/modules/linear_model.html#logistic-regression\n",
      "  extra_warning_msg=_LOGISTIC_SOLVER_CONVERGENCE_MSG)\n"
     ]
    },
    {
     "data": {
      "text/plain": [
       "LogisticRegression(multi_class='multinomial', random_state=0)"
      ]
     },
     "execution_count": 88,
     "metadata": {},
     "output_type": "execute_result"
    }
   ],
   "source": [
    "model = LogisticRegression(random_state=0, solver ='lbfgs', multi_class='multinomial') \n",
    "model.fit(x_train, y_train)"
   ]
  },
  {
   "cell_type": "code",
   "execution_count": 89,
   "id": "enabling-blink",
   "metadata": {},
   "outputs": [],
   "source": [
    "y_pred = model.predict(x_train)"
   ]
  },
  {
   "cell_type": "code",
   "execution_count": 90,
   "id": "advisory-excuse",
   "metadata": {},
   "outputs": [
    {
     "name": "stdout",
     "output_type": "stream",
     "text": [
      "accuracy = 0.7467362924281984\n"
     ]
    }
   ],
   "source": [
    "acc = accuracy_score(y_train, y_pred) \n",
    "print('accuracy =', acc) "
   ]
  },
  {
   "cell_type": "code",
   "execution_count": 91,
   "id": "dependent-percentage",
   "metadata": {},
   "outputs": [
    {
     "data": {
      "text/plain": [
       "array([[216,  15,   3,   2],\n",
       "       [ 54,  50,   1,   0],\n",
       "       [ 10,   4,  11,   0],\n",
       "       [  5,   2,   1,   9]], dtype=int64)"
      ]
     },
     "execution_count": 91,
     "metadata": {},
     "output_type": "execute_result"
    }
   ],
   "source": [
    "con_mat = confusion_matrix(y_true=y_train, y_pred=y_pred) \n",
    "con_mat"
   ]
  },
  {
   "cell_type": "code",
   "execution_count": 92,
   "id": "exclusive-mountain",
   "metadata": {},
   "outputs": [],
   "source": [
    "y_pred2 = model.predict(x_test)"
   ]
  },
  {
   "cell_type": "code",
   "execution_count": 93,
   "id": "planned-bundle",
   "metadata": {},
   "outputs": [
    {
     "name": "stdout",
     "output_type": "stream",
     "text": [
      "accuracy = 0.6666666666666666\n"
     ]
    }
   ],
   "source": [
    "acc2 = accuracy_score(y_test, y_pred2) \n",
    "print('accuracy =', acc2) "
   ]
  },
  {
   "cell_type": "code",
   "execution_count": 94,
   "id": "increased-means",
   "metadata": {},
   "outputs": [
    {
     "data": {
      "text/plain": [
       "array([[55,  7,  1,  0],\n",
       "       [14,  6,  1,  1],\n",
       "       [ 5,  0,  2,  1],\n",
       "       [ 1,  1,  0,  1]], dtype=int64)"
      ]
     },
     "execution_count": 94,
     "metadata": {},
     "output_type": "execute_result"
    }
   ],
   "source": [
    "con_mat2 = confusion_matrix(y_true=y_test, y_pred=y_pred2) \n",
    "con_mat2"
   ]
  },
  {
   "cell_type": "code",
   "execution_count": 95,
   "id": "christian-marker",
   "metadata": {},
   "outputs": [
    {
     "name": "stdout",
     "output_type": "stream",
     "text": [
      "accuracy = 0.7232375979112271\n"
     ]
    }
   ],
   "source": [
    "acc = (con_mat[0,0] + con_mat[1,1] + con_mat[2,2])/len(y_train) \n",
    "print('accuracy =', acc) "
   ]
  },
  {
   "cell_type": "code",
   "execution_count": 96,
   "id": "focused-death",
   "metadata": {},
   "outputs": [],
   "source": [
    "import seaborn as sn # heatmap - Accuracy Score \n",
    "import matplotlib.pyplot as plt"
   ]
  },
  {
   "cell_type": "code",
   "execution_count": 98,
   "id": "clear-soundtrack",
   "metadata": {},
   "outputs": [
    {
     "data": {
      "image/png": "[encoded data removed]",
      "text/plain": [
       "<Figure size 720x720 with 2 Axes>"
      ]
     },
     "metadata": {},
     "output_type": "display_data"
    }
   ],
   "source": [
    "plt.figure(figsize=(10,10)) # chart size \n",
    "sn.heatmap(con_mat, annot=True, fmt=\".2f\", linewidths=.5, square = True);\n",
    "plt.ylabel('Actual label'); \n",
    "plt.xlabel('Predicted label'); \n",
    "all_sample_title = 'Accuracy Score: {0}'.format(acc) \n",
    "sns.set_style('whitegrid')\n",
    "plt.title(all_sample_title, size = 18) \n",
    "plt.show() "
   ]
  },
  {
   "cell_type": "code",
   "execution_count": null,
   "id": "instructional-television",
   "metadata": {},
   "outputs": [],
   "source": []
  },
  {
   "cell_type": "code",
   "execution_count": null,
   "id": "latin-professor",
   "metadata": {},
   "outputs": [],
   "source": []
  },
  {
   "cell_type": "code",
   "execution_count": null,
   "id": "relative-professional",
   "metadata": {},
   "outputs": [],
   "source": []
  },
  {
   "cell_type": "markdown",
   "id": "wrong-prescription",
   "metadata": {},
   "source": [
    "#### 시도 2"
   ]
  },
  {
   "cell_type": "code",
   "execution_count": null,
   "id": "surgical-proceeding",
   "metadata": {},
   "outputs": [],
   "source": []
  },
  {
   "cell_type": "code",
   "execution_count": null,
   "id": "above-boating",
   "metadata": {},
   "outputs": [],
   "source": []
  },
  {
   "cell_type": "code",
   "execution_count": null,
   "id": "visible-henry",
   "metadata": {},
   "outputs": [],
   "source": []
  },
  {
   "cell_type": "code",
   "execution_count": null,
   "id": "imported-values",
   "metadata": {},
   "outputs": [],
   "source": []
  },
  {
   "cell_type": "markdown",
   "id": "pointed-calculator",
   "metadata": {},
   "source": [
    "##### 여기서부터는 hrv_81 데이터를 쓰도록 하자.\n",
    "- sub, disorder, visit, 10개주요 변수를 제거하였음(80 rows가 되었음)\n",
    "- 9 x 9 형태를 맞춰주기 위해서 null1 rows 추가\n",
    "- 각 row별로 normalize해서 0~1사이로 값을 맞춰주었음"
   ]
  },
  {
   "cell_type": "code",
   "execution_count": 31,
   "id": "conservative-translator",
   "metadata": {},
   "outputs": [],
   "source": [
    "# hrv_81.shape"
   ]
  },
  {
   "cell_type": "code",
   "execution_count": null,
   "id": "unable-variable",
   "metadata": {},
   "outputs": [],
   "source": [
    "#값이 어떻게 표기되는지 x0를 통해서 확인해보자\n",
    "x0=hrv_81.loc[479].values"
   ]
  },
  {
   "cell_type": "code",
   "execution_count": null,
   "id": "moving-characteristic",
   "metadata": {},
   "outputs": [],
   "source": [
    "x0"
   ]
  },
  {
   "cell_type": "code",
   "execution_count": null,
   "id": "precise-carnival",
   "metadata": {},
   "outputs": [],
   "source": [
    "# 9 x 9으로 reshape\n",
    "x0=x0.reshape(9,9)"
   ]
  },
  {
   "cell_type": "code",
   "execution_count": null,
   "id": "rising-publisher",
   "metadata": {},
   "outputs": [],
   "source": [
    "# heatmap으로 체크해봄. 근데 heatmap보다 그냥 plt.imsho()써서 gray scale로 보는게 가독성 있을듯\n",
    "# x0 = sns.heatmap(x0)"
   ]
  },
  {
   "cell_type": "code",
   "execution_count": null,
   "id": "lightweight-replica",
   "metadata": {},
   "outputs": [],
   "source": [
    "#gray scale로 확인해보고\n",
    "plt.imshow(x0, cmap='gray')"
   ]
  },
  {
   "cell_type": "code",
   "execution_count": null,
   "id": "caring-instrument",
   "metadata": {},
   "outputs": [],
   "source": [
    "hrv_81.loc[0] #확인했으니까 이제 우리 데이터를 가지고"
   ]
  },
  {
   "cell_type": "code",
   "execution_count": null,
   "id": "cardiac-teacher",
   "metadata": {},
   "outputs": [],
   "source": [
    "hrv_81.shape"
   ]
  },
  {
   "cell_type": "code",
   "execution_count": null,
   "id": "boolean-initial",
   "metadata": {},
   "outputs": [],
   "source": [
    "hrv_81_arr = hrv_81.values\n",
    "hrv_81_arr.shape"
   ]
  },
  {
   "cell_type": "code",
   "execution_count": null,
   "id": "internal-active",
   "metadata": {},
   "outputs": [],
   "source": [
    "# array 형태로 480개 행에 대해서 9 x 9 reshape\n",
    "hrv_array = hrv_81_arr.reshape(480,9,9)"
   ]
  },
  {
   "cell_type": "code",
   "execution_count": null,
   "id": "applicable-logistics",
   "metadata": {},
   "outputs": [],
   "source": [
    "hrv_array.shape"
   ]
  },
  {
   "cell_type": "code",
   "execution_count": null,
   "id": "julian-heart",
   "metadata": {},
   "outputs": [],
   "source": [
    "# data = pd.concat([hrv_100,hrv_target], axis=1)"
   ]
  },
  {
   "cell_type": "code",
   "execution_count": null,
   "id": "israeli-bedroom",
   "metadata": {},
   "outputs": [],
   "source": [
    "# np.save('E:/RESEARCH/Datasets/HRV_samsung/cat_hamd/y.npy', y)"
   ]
  },
  {
   "cell_type": "code",
   "execution_count": null,
   "id": "irish-campus",
   "metadata": {},
   "outputs": [],
   "source": [
    "# np.save('E:/RESEARCH/Datasets/HRV_samsung/pracdata/y1.npy', y1)"
   ]
  },
  {
   "cell_type": "code",
   "execution_count": null,
   "id": "discrete-element",
   "metadata": {},
   "outputs": [],
   "source": [
    "# np.save('E:/RESEARCH/Datasets/HRV_samsung/pracdata/y2.npy', y2)"
   ]
  },
  {
   "cell_type": "code",
   "execution_count": null,
   "id": "backed-exhibition",
   "metadata": {},
   "outputs": [],
   "source": [
    "# np.save('E:/RESEARCH/Datasets/HRV_samsung/pracdata/y3.npy', y3)"
   ]
  },
  {
   "cell_type": "code",
   "execution_count": null,
   "id": "shared-electric",
   "metadata": {},
   "outputs": [],
   "source": [
    "# np.save('E:/RESEARCH/Datasets/HRV_samsung/pracdata/y4.npy', y4)"
   ]
  },
  {
   "cell_type": "code",
   "execution_count": null,
   "id": "textile-positive",
   "metadata": {},
   "outputs": [],
   "source": [
    "# np.save('E:/RESEARCH/Datasets/HRV_samsung/pracdata/y5.npy', y5)"
   ]
  },
  {
   "cell_type": "code",
   "execution_count": null,
   "id": "russian-trunk",
   "metadata": {},
   "outputs": [],
   "source": [
    "# np.save('E:/RESEARCH/Datasets/HRV_samsung/pracdata/y6.npy', y6)"
   ]
  },
  {
   "cell_type": "code",
   "execution_count": null,
   "id": "casual-admission",
   "metadata": {},
   "outputs": [],
   "source": [
    "# np.save('E:/RESEARCH/Datasets/HRV_samsung/pracdata/y7.npy', y7)"
   ]
  },
  {
   "cell_type": "code",
   "execution_count": null,
   "id": "vulnerable-workshop",
   "metadata": {},
   "outputs": [],
   "source": [
    "# np.save('E:/RESEARCH/Datasets/HRV_samsung/pracdata/y8.npy', y8)"
   ]
  },
  {
   "cell_type": "code",
   "execution_count": null,
   "id": "minus-brand",
   "metadata": {},
   "outputs": [],
   "source": [
    "# np.save('E:/RESEARCH/Datasets/HRV_samsung/pracdata/y9.npy', y9)"
   ]
  },
  {
   "cell_type": "code",
   "execution_count": null,
   "id": "indian-footage",
   "metadata": {},
   "outputs": [],
   "source": [
    "# np.save('E:/RESEARCH/Datasets/HRV_samsung/pracdata/y10.npy', y10)"
   ]
  },
  {
   "cell_type": "code",
   "execution_count": null,
   "id": "precious-shanghai",
   "metadata": {},
   "outputs": [],
   "source": []
  },
  {
   "cell_type": "code",
   "execution_count": null,
   "id": "valid-nudist",
   "metadata": {},
   "outputs": [],
   "source": [
    "# np.save('E:/RESEARCH/Datasets/HRV_samsung/cat_hamd/x.npy', hrv_array)"
   ]
  },
  {
   "cell_type": "code",
   "execution_count": null,
   "id": "expired-governor",
   "metadata": {},
   "outputs": [],
   "source": [
    "# np.save('E:/RESEARCH/Datasets/HRV_samsung/cat_hamd/patient.npy', patient)"
   ]
  },
  {
   "cell_type": "code",
   "execution_count": null,
   "id": "perceived-accountability",
   "metadata": {},
   "outputs": [],
   "source": []
  },
  {
   "cell_type": "code",
   "execution_count": null,
   "id": "needed-jersey",
   "metadata": {},
   "outputs": [],
   "source": [
    "# 확인해보자\n",
    "# xdata = np.load('E:/RESEARCH/Datasets/HRV_samsung/cat_hamd/x.npy')"
   ]
  },
  {
   "cell_type": "code",
   "execution_count": null,
   "id": "combined-bhutan",
   "metadata": {},
   "outputs": [],
   "source": [
    "# xdata"
   ]
  },
  {
   "cell_type": "code",
   "execution_count": null,
   "id": "fifteen-denver",
   "metadata": {},
   "outputs": [],
   "source": [
    "# xdata[0].shape"
   ]
  },
  {
   "cell_type": "code",
   "execution_count": null,
   "id": "protecting-romania",
   "metadata": {},
   "outputs": [],
   "source": []
  },
  {
   "cell_type": "code",
   "execution_count": null,
   "id": "christian-bacon",
   "metadata": {},
   "outputs": [],
   "source": []
  },
  {
   "cell_type": "code",
   "execution_count": null,
   "id": "genuine-upper",
   "metadata": {},
   "outputs": [],
   "source": []
  }
 ],
 "metadata": {
  "kernelspec": {
   "display_name": "Python 3",
   "language": "python",
   "name": "python3"
  },
  "language_info": {
   "codemirror_mode": {
    "name": "ipython",
    "version": 3
   },
   "file_extension": ".py",
   "mimetype": "text/x-python",
   "name": "python",
   "nbconvert_exporter": "python",
   "pygments_lexer": "ipython3",
   "version": "3.8.10"
  }
 },
 "nbformat": 4,
 "nbformat_minor": 5
}
