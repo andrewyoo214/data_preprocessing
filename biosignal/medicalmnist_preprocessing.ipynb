{
 "cells": [
  {
   "cell_type": "markdown",
   "id": "tropical-cosmetic",
   "metadata": {},
   "source": [
    "### Medical MNIST data preprocessing for FL research"
   ]
  },
  {
   "cell_type": "code",
   "execution_count": 1,
   "id": "intermediate-hayes",
   "metadata": {},
   "outputs": [],
   "source": [
    "import pandas as pd\n",
    "import numpy as np\n",
    "import matplotlib.pyplot as plt\n",
    "import seaborn as sns\n",
    "import os\n",
    "from PIL import Image\n",
    "\n",
    "import torch\n",
    "import torch.nn as nn\n",
    "import torch.nn.functional as F\n",
    "import torch.optim as optim\n",
    "import torchvision\n",
    "import torchvision.datasets as datasets\n",
    "import torchvision.transforms as transforms\n",
    "\n",
    "from sklearn.metrics import accuracy_score\n",
    "from sklearn.metrics import confusion_matrix"
   ]
  },
  {
   "cell_type": "code",
   "execution_count": 8,
   "id": "monetary-cache",
   "metadata": {},
   "outputs": [],
   "source": [
    "# path 지정\n",
    "BASE_PATH = \"E:/RESEARCH/Datasets/MMNIST/\""
   ]
  },
  {
   "cell_type": "code",
   "execution_count": 9,
   "id": "future-message",
   "metadata": {},
   "outputs": [],
   "source": [
    "def count_of_images(dir_path):\n",
    "    path, dirs, files = next(os.walk(dir_path))\n",
    "    return len(files)"
   ]
  },
  {
   "cell_type": "code",
   "execution_count": 10,
   "id": "adopted-threat",
   "metadata": {},
   "outputs": [],
   "source": [
    "abdomenCT_count = count_of_images(BASE_PATH+\"AbdomenCT/\")\n",
    "breastMRI_count = count_of_images(BASE_PATH+\"BreastMRI/\")\n",
    "cxr_count = count_of_images(BASE_PATH+\"CXR/\")\n",
    "chestCT_count = count_of_images(BASE_PATH+\"ChestCT/\")\n",
    "hand_count = count_of_images(BASE_PATH+\"Hand/\")\n",
    "headCT_count = count_of_images(BASE_PATH+\"HeadCT/\")"
   ]
  },
  {
   "cell_type": "code",
   "execution_count": 11,
   "id": "interior-garage",
   "metadata": {},
   "outputs": [],
   "source": [
    "classes = [\"AbdomenCT\", \"BreastMRI\", \"CXR\", \"ChestCT\", \"Hand\", \"HeadCT\"]\n",
    "number_of_classes = [abdomenCT_count, breastMRI_count, cxr_count, chestCT_count, hand_count, headCT_count]"
   ]
  },
  {
   "cell_type": "code",
   "execution_count": 12,
   "id": "historical-proportion",
   "metadata": {},
   "outputs": [
    {
     "name": "stderr",
     "output_type": "stream",
     "text": [
      "c:\\users\\user\\anaconda3\\envs\\mlprac\\lib\\site-packages\\seaborn\\_decorators.py:43: FutureWarning: Pass the following variables as keyword args: x, y. From version 0.12, the only valid positional argument will be `data`, and passing other arguments without an explicit keyword will result in an error or misinterpretation.\n",
      "  FutureWarning\n"
     ]
    },
    {
     "data": {
      "text/plain": [
       "<AxesSubplot:>"
      ]
     },
     "execution_count": 12,
     "metadata": {},
     "output_type": "execute_result"
    },
    {
     "data": {
      "image/png": "[encoded data removed]",
      "text/plain": [
       "<Figure size 720x720 with 1 Axes>"
      ]
     },
     "metadata": {
      "needs_background": "light"
     },
     "output_type": "display_data"
    }
   ],
   "source": []
  },
  {
   "cell_type": "code",
   "execution_count": 64,
   "id": "small-accreditation",
   "metadata": {},
   "outputs": [],
   "source": [
    "# hrv_df['null1'] = 0\n",
    "# hrv_df['null2'] = 0\n",
    "# hrv_df['null3'] = 0\n",
    "# hrv_df['null4'] = 0\n",
    "# hrv_df['null5'] = 0\n",
    "# hrv_df['null6'] = 0\n",
    "# hrv_df['null7'] = 0\n",
    "# hrv_df['null8'] = 0\n",
    "# hrv_df['null9'] = 0\n",
    "# hrv_df['null10'] = 0\n",
    "# hrv_df['null11'] = 0\n",
    "# hrv_df['null12'] = 0\n",
    "# hrv_df['null13'] = 0"
   ]
  },
  {
   "cell_type": "code",
   "execution_count": 65,
   "id": "continuing-referral",
   "metadata": {},
   "outputs": [
    {
     "data": {
      "text/plain": [
       "(480, 28)"
      ]
     },
     "execution_count": 65,
     "metadata": {},
     "output_type": "execute_result"
    }
   ],
   "source": [
    "hrv_df.shape"
   ]
  },
  {
   "cell_type": "code",
   "execution_count": 66,
   "id": "different-future",
   "metadata": {},
   "outputs": [
    {
     "data": {
      "text/html": [
       "<div>\n",
       "<style scoped>\n",
       "    .dataframe tbody tr th:only-of-type {\n",
       "        vertical-align: middle;\n",
       "    }\n",
       "\n",
       "    .dataframe tbody tr th {\n",
       "        vertical-align: top;\n",
       "    }\n",
       "\n",
       "    .dataframe thead th {\n",
       "        text-align: right;\n",
       "    }\n",
       "</style>\n",
       "<table border=\"1\" class=\"dataframe\">\n",
       "  <thead>\n",
       "    <tr style=\"text-align: right;\">\n",
       "      <th></th>\n",
       "      <th>sub</th>\n",
       "      <th>VISIT</th>\n",
       "      <th>disorder</th>\n",
       "      <th>age</th>\n",
       "      <th>gender</th>\n",
       "      <th>HAMD</th>\n",
       "      <th>HAMA</th>\n",
       "      <th>PDSS</th>\n",
       "      <th>ASI</th>\n",
       "      <th>APPQ</th>\n",
       "      <th>...</th>\n",
       "      <th>sRMSSD</th>\n",
       "      <th>sVLF</th>\n",
       "      <th>sLF</th>\n",
       "      <th>sHF</th>\n",
       "      <th>sLF/HF</th>\n",
       "      <th>sPOWER</th>\n",
       "      <th>sHR</th>\n",
       "      <th>sRESP</th>\n",
       "      <th>sSC</th>\n",
       "      <th>sTEMP</th>\n",
       "    </tr>\n",
       "  </thead>\n",
       "  <tbody>\n",
       "    <tr>\n",
       "      <th>0</th>\n",
       "      <td>E001</td>\n",
       "      <td>4</td>\n",
       "      <td>2</td>\n",
       "      <td>23</td>\n",
       "      <td>1</td>\n",
       "      <td>2</td>\n",
       "      <td>2</td>\n",
       "      <td>1</td>\n",
       "      <td>12</td>\n",
       "      <td>22</td>\n",
       "      <td>...</td>\n",
       "      <td>45.486667</td>\n",
       "      <td>102.912000</td>\n",
       "      <td>379.289333</td>\n",
       "      <td>130.104000</td>\n",
       "      <td>2.930333</td>\n",
       "      <td>612.305000</td>\n",
       "      <td>65.484667</td>\n",
       "      <td>13.136667</td>\n",
       "      <td>5.669333</td>\n",
       "      <td>33.682333</td>\n",
       "    </tr>\n",
       "    <tr>\n",
       "      <th>1</th>\n",
       "      <td>E001</td>\n",
       "      <td>5</td>\n",
       "      <td>2</td>\n",
       "      <td>23</td>\n",
       "      <td>1</td>\n",
       "      <td>12</td>\n",
       "      <td>7</td>\n",
       "      <td>0</td>\n",
       "      <td>12</td>\n",
       "      <td>24</td>\n",
       "      <td>...</td>\n",
       "      <td>70.836667</td>\n",
       "      <td>475.476000</td>\n",
       "      <td>1345.689667</td>\n",
       "      <td>1390.014000</td>\n",
       "      <td>1.986000</td>\n",
       "      <td>3211.179667</td>\n",
       "      <td>72.857333</td>\n",
       "      <td>13.948667</td>\n",
       "      <td>10.076000</td>\n",
       "      <td>35.009667</td>\n",
       "    </tr>\n",
       "    <tr>\n",
       "      <th>2</th>\n",
       "      <td>E002</td>\n",
       "      <td>1</td>\n",
       "      <td>2</td>\n",
       "      <td>38</td>\n",
       "      <td>1</td>\n",
       "      <td>14</td>\n",
       "      <td>17</td>\n",
       "      <td>14</td>\n",
       "      <td>31</td>\n",
       "      <td>122</td>\n",
       "      <td>...</td>\n",
       "      <td>16.828000</td>\n",
       "      <td>54.895000</td>\n",
       "      <td>118.118000</td>\n",
       "      <td>69.418333</td>\n",
       "      <td>1.567000</td>\n",
       "      <td>242.431333</td>\n",
       "      <td>95.091000</td>\n",
       "      <td>14.785333</td>\n",
       "      <td>1.126000</td>\n",
       "      <td>35.187667</td>\n",
       "    </tr>\n",
       "    <tr>\n",
       "      <th>3</th>\n",
       "      <td>E002</td>\n",
       "      <td>2</td>\n",
       "      <td>2</td>\n",
       "      <td>38</td>\n",
       "      <td>1</td>\n",
       "      <td>13</td>\n",
       "      <td>36</td>\n",
       "      <td>16</td>\n",
       "      <td>32</td>\n",
       "      <td>139</td>\n",
       "      <td>...</td>\n",
       "      <td>12.420000</td>\n",
       "      <td>33.789333</td>\n",
       "      <td>40.496000</td>\n",
       "      <td>22.918000</td>\n",
       "      <td>1.888333</td>\n",
       "      <td>97.203000</td>\n",
       "      <td>90.964667</td>\n",
       "      <td>13.989667</td>\n",
       "      <td>0.652000</td>\n",
       "      <td>36.226667</td>\n",
       "    </tr>\n",
       "    <tr>\n",
       "      <th>4</th>\n",
       "      <td>E002</td>\n",
       "      <td>3</td>\n",
       "      <td>2</td>\n",
       "      <td>38</td>\n",
       "      <td>1</td>\n",
       "      <td>7</td>\n",
       "      <td>10</td>\n",
       "      <td>11</td>\n",
       "      <td>23</td>\n",
       "      <td>70</td>\n",
       "      <td>...</td>\n",
       "      <td>44.142667</td>\n",
       "      <td>27.772333</td>\n",
       "      <td>280.004333</td>\n",
       "      <td>244.097667</td>\n",
       "      <td>1.523000</td>\n",
       "      <td>551.874000</td>\n",
       "      <td>89.312000</td>\n",
       "      <td>13.814000</td>\n",
       "      <td>0.535000</td>\n",
       "      <td>35.963000</td>\n",
       "    </tr>\n",
       "  </tbody>\n",
       "</table>\n",
       "<p>5 rows × 28 columns</p>\n",
       "</div>"
      ],
      "text/plain": [
       "    sub  VISIT  disorder  age  gender  HAMD  HAMA  PDSS  ASI  APPQ  ...  \\\n",
       "0  E001      4         2   23       1     2     2     1   12    22  ...   \n",
       "1  E001      5         2   23       1    12     7     0   12    24  ...   \n",
       "2  E002      1         2   38       1    14    17    14   31   122  ...   \n",
       "3  E002      2         2   38       1    13    36    16   32   139  ...   \n",
       "4  E002      3         2   38       1     7    10    11   23    70  ...   \n",
       "\n",
       "      sRMSSD        sVLF          sLF          sHF    sLF/HF       sPOWER  \\\n",
       "0  45.486667  102.912000   379.289333   130.104000  2.930333   612.305000   \n",
       "1  70.836667  475.476000  1345.689667  1390.014000  1.986000  3211.179667   \n",
       "2  16.828000   54.895000   118.118000    69.418333  1.567000   242.431333   \n",
       "3  12.420000   33.789333    40.496000    22.918000  1.888333    97.203000   \n",
       "4  44.142667   27.772333   280.004333   244.097667  1.523000   551.874000   \n",
       "\n",
       "         sHR      sRESP        sSC      sTEMP  \n",
       "0  65.484667  13.136667   5.669333  33.682333  \n",
       "1  72.857333  13.948667  10.076000  35.009667  \n",
       "2  95.091000  14.785333   1.126000  35.187667  \n",
       "3  90.964667  13.989667   0.652000  36.226667  \n",
       "4  89.312000  13.814000   0.535000  35.963000  \n",
       "\n",
       "[5 rows x 28 columns]"
      ]
     },
     "execution_count": 66,
     "metadata": {},
     "output_type": "execute_result"
    }
   ],
   "source": [
    "#hrv data확인\n",
    "hrv_df.head()"
   ]
  },
  {
   "cell_type": "code",
   "execution_count": 67,
   "id": "numeric-closing",
   "metadata": {},
   "outputs": [],
   "source": [
    "## HRV 데이터셋에서 VISIT1, 즉 첫번째 방문에 대한 데이터만을 hrv_visit1에 저장\n",
    "# hrv_visit1=hrv_df[hrv_df['VISIT']==1]\n",
    "# hrv_visit1.head(10)"
   ]
  },
  {
   "cell_type": "code",
   "execution_count": 68,
   "id": "gorgeous-sensitivity",
   "metadata": {},
   "outputs": [
    {
     "data": {
      "text/html": [
       "<div>\n",
       "<style scoped>\n",
       "    .dataframe tbody tr th:only-of-type {\n",
       "        vertical-align: middle;\n",
       "    }\n",
       "\n",
       "    .dataframe tbody tr th {\n",
       "        vertical-align: top;\n",
       "    }\n",
       "\n",
       "    .dataframe thead th {\n",
       "        text-align: right;\n",
       "    }\n",
       "</style>\n",
       "<table border=\"1\" class=\"dataframe\">\n",
       "  <thead>\n",
       "    <tr style=\"text-align: right;\">\n",
       "      <th></th>\n",
       "      <th>age</th>\n",
       "      <th>gender</th>\n",
       "      <th>HAMD</th>\n",
       "      <th>HAMA</th>\n",
       "      <th>PDSS</th>\n",
       "      <th>ASI</th>\n",
       "      <th>APPQ</th>\n",
       "      <th>PSWQ</th>\n",
       "      <th>SPI</th>\n",
       "      <th>PSS</th>\n",
       "      <th>...</th>\n",
       "      <th>sRMSSD</th>\n",
       "      <th>sVLF</th>\n",
       "      <th>sLF</th>\n",
       "      <th>sHF</th>\n",
       "      <th>sLF/HF</th>\n",
       "      <th>sPOWER</th>\n",
       "      <th>sHR</th>\n",
       "      <th>sRESP</th>\n",
       "      <th>sSC</th>\n",
       "      <th>sTEMP</th>\n",
       "    </tr>\n",
       "  </thead>\n",
       "  <tbody>\n",
       "    <tr>\n",
       "      <th>0</th>\n",
       "      <td>23</td>\n",
       "      <td>1</td>\n",
       "      <td>2</td>\n",
       "      <td>2</td>\n",
       "      <td>1</td>\n",
       "      <td>12</td>\n",
       "      <td>22</td>\n",
       "      <td>33</td>\n",
       "      <td>15</td>\n",
       "      <td>10</td>\n",
       "      <td>...</td>\n",
       "      <td>45.486667</td>\n",
       "      <td>102.912000</td>\n",
       "      <td>379.289333</td>\n",
       "      <td>130.104000</td>\n",
       "      <td>2.930333</td>\n",
       "      <td>612.305000</td>\n",
       "      <td>65.484667</td>\n",
       "      <td>13.136667</td>\n",
       "      <td>5.669333</td>\n",
       "      <td>33.682333</td>\n",
       "    </tr>\n",
       "    <tr>\n",
       "      <th>1</th>\n",
       "      <td>23</td>\n",
       "      <td>1</td>\n",
       "      <td>12</td>\n",
       "      <td>7</td>\n",
       "      <td>0</td>\n",
       "      <td>12</td>\n",
       "      <td>24</td>\n",
       "      <td>37</td>\n",
       "      <td>18</td>\n",
       "      <td>14</td>\n",
       "      <td>...</td>\n",
       "      <td>70.836667</td>\n",
       "      <td>475.476000</td>\n",
       "      <td>1345.689667</td>\n",
       "      <td>1390.014000</td>\n",
       "      <td>1.986000</td>\n",
       "      <td>3211.179667</td>\n",
       "      <td>72.857333</td>\n",
       "      <td>13.948667</td>\n",
       "      <td>10.076000</td>\n",
       "      <td>35.009667</td>\n",
       "    </tr>\n",
       "    <tr>\n",
       "      <th>2</th>\n",
       "      <td>38</td>\n",
       "      <td>1</td>\n",
       "      <td>14</td>\n",
       "      <td>17</td>\n",
       "      <td>14</td>\n",
       "      <td>31</td>\n",
       "      <td>122</td>\n",
       "      <td>39</td>\n",
       "      <td>0</td>\n",
       "      <td>21</td>\n",
       "      <td>...</td>\n",
       "      <td>16.828000</td>\n",
       "      <td>54.895000</td>\n",
       "      <td>118.118000</td>\n",
       "      <td>69.418333</td>\n",
       "      <td>1.567000</td>\n",
       "      <td>242.431333</td>\n",
       "      <td>95.091000</td>\n",
       "      <td>14.785333</td>\n",
       "      <td>1.126000</td>\n",
       "      <td>35.187667</td>\n",
       "    </tr>\n",
       "    <tr>\n",
       "      <th>3</th>\n",
       "      <td>38</td>\n",
       "      <td>1</td>\n",
       "      <td>13</td>\n",
       "      <td>36</td>\n",
       "      <td>16</td>\n",
       "      <td>32</td>\n",
       "      <td>139</td>\n",
       "      <td>35</td>\n",
       "      <td>0</td>\n",
       "      <td>26</td>\n",
       "      <td>...</td>\n",
       "      <td>12.420000</td>\n",
       "      <td>33.789333</td>\n",
       "      <td>40.496000</td>\n",
       "      <td>22.918000</td>\n",
       "      <td>1.888333</td>\n",
       "      <td>97.203000</td>\n",
       "      <td>90.964667</td>\n",
       "      <td>13.989667</td>\n",
       "      <td>0.652000</td>\n",
       "      <td>36.226667</td>\n",
       "    </tr>\n",
       "    <tr>\n",
       "      <th>4</th>\n",
       "      <td>38</td>\n",
       "      <td>1</td>\n",
       "      <td>7</td>\n",
       "      <td>10</td>\n",
       "      <td>11</td>\n",
       "      <td>23</td>\n",
       "      <td>70</td>\n",
       "      <td>32</td>\n",
       "      <td>0</td>\n",
       "      <td>16</td>\n",
       "      <td>...</td>\n",
       "      <td>44.142667</td>\n",
       "      <td>27.772333</td>\n",
       "      <td>280.004333</td>\n",
       "      <td>244.097667</td>\n",
       "      <td>1.523000</td>\n",
       "      <td>551.874000</td>\n",
       "      <td>89.312000</td>\n",
       "      <td>13.814000</td>\n",
       "      <td>0.535000</td>\n",
       "      <td>35.963000</td>\n",
       "    </tr>\n",
       "  </tbody>\n",
       "</table>\n",
       "<p>5 rows × 25 columns</p>\n",
       "</div>"
      ],
      "text/plain": [
       "   age  gender  HAMD  HAMA  PDSS  ASI  APPQ  PSWQ  SPI  PSS  ...     sRMSSD  \\\n",
       "0   23       1     2     2     1   12    22    33   15   10  ...  45.486667   \n",
       "1   23       1    12     7     0   12    24    37   18   14  ...  70.836667   \n",
       "2   38       1    14    17    14   31   122    39    0   21  ...  16.828000   \n",
       "3   38       1    13    36    16   32   139    35    0   26  ...  12.420000   \n",
       "4   38       1     7    10    11   23    70    32    0   16  ...  44.142667   \n",
       "\n",
       "         sVLF          sLF          sHF    sLF/HF       sPOWER        sHR  \\\n",
       "0  102.912000   379.289333   130.104000  2.930333   612.305000  65.484667   \n",
       "1  475.476000  1345.689667  1390.014000  1.986000  3211.179667  72.857333   \n",
       "2   54.895000   118.118000    69.418333  1.567000   242.431333  95.091000   \n",
       "3   33.789333    40.496000    22.918000  1.888333    97.203000  90.964667   \n",
       "4   27.772333   280.004333   244.097667  1.523000   551.874000  89.312000   \n",
       "\n",
       "       sRESP        sSC      sTEMP  \n",
       "0  13.136667   5.669333  33.682333  \n",
       "1  13.948667  10.076000  35.009667  \n",
       "2  14.785333   1.126000  35.187667  \n",
       "3  13.989667   0.652000  36.226667  \n",
       "4  13.814000   0.535000  35.963000  \n",
       "\n",
       "[5 rows x 25 columns]"
      ]
     },
     "execution_count": 68,
     "metadata": {},
     "output_type": "execute_result"
    }
   ],
   "source": [
    "#disorder값은 pixel에 넣지 않음. \n",
    "hrv_100 = hrv_df.drop(['sub','disorder','VISIT'], axis=1)\n",
    "hrv_100.head()"
   ]
  },
  {
   "cell_type": "code",
   "execution_count": 69,
   "id": "expressed-northeast",
   "metadata": {},
   "outputs": [
    {
     "data": {
      "text/html": [
       "<div>\n",
       "<style scoped>\n",
       "    .dataframe tbody tr th:only-of-type {\n",
       "        vertical-align: middle;\n",
       "    }\n",
       "\n",
       "    .dataframe tbody tr th {\n",
       "        vertical-align: top;\n",
       "    }\n",
       "\n",
       "    .dataframe thead th {\n",
       "        text-align: right;\n",
       "    }\n",
       "</style>\n",
       "<table border=\"1\" class=\"dataframe\">\n",
       "  <thead>\n",
       "    <tr style=\"text-align: right;\">\n",
       "      <th></th>\n",
       "      <th>disorder</th>\n",
       "    </tr>\n",
       "  </thead>\n",
       "  <tbody>\n",
       "    <tr>\n",
       "      <th>0</th>\n",
       "      <td>2</td>\n",
       "    </tr>\n",
       "    <tr>\n",
       "      <th>1</th>\n",
       "      <td>2</td>\n",
       "    </tr>\n",
       "    <tr>\n",
       "      <th>2</th>\n",
       "      <td>2</td>\n",
       "    </tr>\n",
       "    <tr>\n",
       "      <th>3</th>\n",
       "      <td>2</td>\n",
       "    </tr>\n",
       "    <tr>\n",
       "      <th>4</th>\n",
       "      <td>2</td>\n",
       "    </tr>\n",
       "  </tbody>\n",
       "</table>\n",
       "</div>"
      ],
      "text/plain": [
       "   disorder\n",
       "0         2\n",
       "1         2\n",
       "2         2\n",
       "3         2\n",
       "4         2"
      ]
     },
     "execution_count": 69,
     "metadata": {},
     "output_type": "execute_result"
    }
   ],
   "source": [
    "# 우리가 만들 분석모델의 target인 y는 disorder\n",
    "y = hrv_df.loc[:,['disorder']]\n",
    "y.head()"
   ]
  },
  {
   "cell_type": "code",
   "execution_count": 70,
   "id": "fifteen-raleigh",
   "metadata": {},
   "outputs": [
    {
     "data": {
      "text/plain": [
       "<bound method NDFrame.head of       sub\n",
       "0    E001\n",
       "1    E001\n",
       "2    E002\n",
       "3    E002\n",
       "4    E002\n",
       "..    ...\n",
       "475  E107\n",
       "476  E108\n",
       "477  E108\n",
       "478  E108\n",
       "479  E108\n",
       "\n",
       "[480 rows x 1 columns]>"
      ]
     },
     "execution_count": 70,
     "metadata": {},
     "output_type": "execute_result"
    }
   ],
   "source": [
    "# 환자만 따로 뽑으면\n",
    "patient = hrv_df.loc[:, ['sub']]\n",
    "patient.head"
   ]
  },
  {
   "cell_type": "markdown",
   "id": "removable-hungary",
   "metadata": {},
   "source": [
    "##### 이제 총 100개의 column으로 구성되었으니까 normalization 하자 (0~1 사이 값으로 범위변환)"
   ]
  },
  {
   "cell_type": "code",
   "execution_count": 71,
   "id": "determined-personal",
   "metadata": {},
   "outputs": [],
   "source": [
    "from sklearn.preprocessing import MinMaxScaler\n",
    "scaler = MinMaxScaler()\n",
    "hrv_100[:] = scaler.fit_transform(hrv_100[:])"
   ]
  },
  {
   "cell_type": "markdown",
   "id": "creative-store",
   "metadata": {},
   "source": [
    "##### 만약에 평균0, 표준편차 1의 표준정규분포를 따르도록 변환하려면 아래와 같이 실행 (근데 이건 gender나 age변수에 대해서는 안좋음)"
   ]
  },
  {
   "cell_type": "code",
   "execution_count": 72,
   "id": "refined-november",
   "metadata": {},
   "outputs": [],
   "source": [
    "# from sklearn.preprocessing import StandardScaler\n",
    "# stscaler = StandardScaler()\n",
    "# hrv_100[:] = stscaler.fit_transform(hrv_100[:])"
   ]
  },
  {
   "cell_type": "code",
   "execution_count": 73,
   "id": "confident-glossary",
   "metadata": {},
   "outputs": [
    {
     "data": {
      "text/html": [
       "<div>\n",
       "<style scoped>\n",
       "    .dataframe tbody tr th:only-of-type {\n",
       "        vertical-align: middle;\n",
       "    }\n",
       "\n",
       "    .dataframe tbody tr th {\n",
       "        vertical-align: top;\n",
       "    }\n",
       "\n",
       "    .dataframe thead th {\n",
       "        text-align: right;\n",
       "    }\n",
       "</style>\n",
       "<table border=\"1\" class=\"dataframe\">\n",
       "  <thead>\n",
       "    <tr style=\"text-align: right;\">\n",
       "      <th></th>\n",
       "      <th>age</th>\n",
       "      <th>gender</th>\n",
       "      <th>HAMD</th>\n",
       "      <th>HAMA</th>\n",
       "      <th>PDSS</th>\n",
       "      <th>ASI</th>\n",
       "      <th>APPQ</th>\n",
       "      <th>PSWQ</th>\n",
       "      <th>SPI</th>\n",
       "      <th>PSS</th>\n",
       "      <th>...</th>\n",
       "      <th>sRMSSD</th>\n",
       "      <th>sVLF</th>\n",
       "      <th>sLF</th>\n",
       "      <th>sHF</th>\n",
       "      <th>sLF/HF</th>\n",
       "      <th>sPOWER</th>\n",
       "      <th>sHR</th>\n",
       "      <th>sRESP</th>\n",
       "      <th>sSC</th>\n",
       "      <th>sTEMP</th>\n",
       "    </tr>\n",
       "  </thead>\n",
       "  <tbody>\n",
       "    <tr>\n",
       "      <th>0</th>\n",
       "      <td>0.068966</td>\n",
       "      <td>0.0</td>\n",
       "      <td>0.06250</td>\n",
       "      <td>0.054054</td>\n",
       "      <td>0.038462</td>\n",
       "      <td>0.176471</td>\n",
       "      <td>0.105769</td>\n",
       "      <td>0.362637</td>\n",
       "      <td>0.087719</td>\n",
       "      <td>0.098039</td>\n",
       "      <td>...</td>\n",
       "      <td>0.050443</td>\n",
       "      <td>0.002134</td>\n",
       "      <td>0.003175</td>\n",
       "      <td>0.002404</td>\n",
       "      <td>0.139438</td>\n",
       "      <td>0.003380</td>\n",
       "      <td>0.169497</td>\n",
       "      <td>0.468542</td>\n",
       "      <td>0.324185</td>\n",
       "      <td>0.752054</td>\n",
       "    </tr>\n",
       "    <tr>\n",
       "      <th>1</th>\n",
       "      <td>0.068966</td>\n",
       "      <td>0.0</td>\n",
       "      <td>0.37500</td>\n",
       "      <td>0.189189</td>\n",
       "      <td>0.000000</td>\n",
       "      <td>0.176471</td>\n",
       "      <td>0.115385</td>\n",
       "      <td>0.406593</td>\n",
       "      <td>0.105263</td>\n",
       "      <td>0.137255</td>\n",
       "      <td>...</td>\n",
       "      <td>0.080992</td>\n",
       "      <td>0.010057</td>\n",
       "      <td>0.011351</td>\n",
       "      <td>0.025903</td>\n",
       "      <td>0.092394</td>\n",
       "      <td>0.017908</td>\n",
       "      <td>0.270710</td>\n",
       "      <td>0.576330</td>\n",
       "      <td>0.578093</td>\n",
       "      <td>0.872753</td>\n",
       "    </tr>\n",
       "    <tr>\n",
       "      <th>2</th>\n",
       "      <td>0.327586</td>\n",
       "      <td>0.0</td>\n",
       "      <td>0.43750</td>\n",
       "      <td>0.459459</td>\n",
       "      <td>0.538462</td>\n",
       "      <td>0.455882</td>\n",
       "      <td>0.586538</td>\n",
       "      <td>0.428571</td>\n",
       "      <td>0.000000</td>\n",
       "      <td>0.205882</td>\n",
       "      <td>...</td>\n",
       "      <td>0.015907</td>\n",
       "      <td>0.001113</td>\n",
       "      <td>0.000966</td>\n",
       "      <td>0.001273</td>\n",
       "      <td>0.071521</td>\n",
       "      <td>0.001312</td>\n",
       "      <td>0.575937</td>\n",
       "      <td>0.687392</td>\n",
       "      <td>0.062402</td>\n",
       "      <td>0.888939</td>\n",
       "    </tr>\n",
       "    <tr>\n",
       "      <th>3</th>\n",
       "      <td>0.327586</td>\n",
       "      <td>0.0</td>\n",
       "      <td>0.40625</td>\n",
       "      <td>0.972973</td>\n",
       "      <td>0.615385</td>\n",
       "      <td>0.470588</td>\n",
       "      <td>0.668269</td>\n",
       "      <td>0.384615</td>\n",
       "      <td>0.000000</td>\n",
       "      <td>0.254902</td>\n",
       "      <td>...</td>\n",
       "      <td>0.010595</td>\n",
       "      <td>0.000664</td>\n",
       "      <td>0.000309</td>\n",
       "      <td>0.000405</td>\n",
       "      <td>0.087529</td>\n",
       "      <td>0.000500</td>\n",
       "      <td>0.519290</td>\n",
       "      <td>0.581772</td>\n",
       "      <td>0.035090</td>\n",
       "      <td>0.983420</td>\n",
       "    </tr>\n",
       "    <tr>\n",
       "      <th>4</th>\n",
       "      <td>0.327586</td>\n",
       "      <td>0.0</td>\n",
       "      <td>0.21875</td>\n",
       "      <td>0.270270</td>\n",
       "      <td>0.423077</td>\n",
       "      <td>0.338235</td>\n",
       "      <td>0.336538</td>\n",
       "      <td>0.351648</td>\n",
       "      <td>0.000000</td>\n",
       "      <td>0.156863</td>\n",
       "      <td>...</td>\n",
       "      <td>0.048823</td>\n",
       "      <td>0.000536</td>\n",
       "      <td>0.002335</td>\n",
       "      <td>0.004531</td>\n",
       "      <td>0.069329</td>\n",
       "      <td>0.003042</td>\n",
       "      <td>0.496602</td>\n",
       "      <td>0.558454</td>\n",
       "      <td>0.028349</td>\n",
       "      <td>0.959443</td>\n",
       "    </tr>\n",
       "  </tbody>\n",
       "</table>\n",
       "<p>5 rows × 25 columns</p>\n",
       "</div>"
      ],
      "text/plain": [
       "        age  gender     HAMD      HAMA      PDSS       ASI      APPQ  \\\n",
       "0  0.068966     0.0  0.06250  0.054054  0.038462  0.176471  0.105769   \n",
       "1  0.068966     0.0  0.37500  0.189189  0.000000  0.176471  0.115385   \n",
       "2  0.327586     0.0  0.43750  0.459459  0.538462  0.455882  0.586538   \n",
       "3  0.327586     0.0  0.40625  0.972973  0.615385  0.470588  0.668269   \n",
       "4  0.327586     0.0  0.21875  0.270270  0.423077  0.338235  0.336538   \n",
       "\n",
       "       PSWQ       SPI       PSS  ...    sRMSSD      sVLF       sLF       sHF  \\\n",
       "0  0.362637  0.087719  0.098039  ...  0.050443  0.002134  0.003175  0.002404   \n",
       "1  0.406593  0.105263  0.137255  ...  0.080992  0.010057  0.011351  0.025903   \n",
       "2  0.428571  0.000000  0.205882  ...  0.015907  0.001113  0.000966  0.001273   \n",
       "3  0.384615  0.000000  0.254902  ...  0.010595  0.000664  0.000309  0.000405   \n",
       "4  0.351648  0.000000  0.156863  ...  0.048823  0.000536  0.002335  0.004531   \n",
       "\n",
       "     sLF/HF    sPOWER       sHR     sRESP       sSC     sTEMP  \n",
       "0  0.139438  0.003380  0.169497  0.468542  0.324185  0.752054  \n",
       "1  0.092394  0.017908  0.270710  0.576330  0.578093  0.872753  \n",
       "2  0.071521  0.001312  0.575937  0.687392  0.062402  0.888939  \n",
       "3  0.087529  0.000500  0.519290  0.581772  0.035090  0.983420  \n",
       "4  0.069329  0.003042  0.496602  0.558454  0.028349  0.959443  \n",
       "\n",
       "[5 rows x 25 columns]"
      ]
     },
     "execution_count": 73,
     "metadata": {},
     "output_type": "execute_result"
    }
   ],
   "source": [
    "#normalize 제대로 되어 있는지 확인\n",
    "hrv_100.head()"
   ]
  },
  {
   "cell_type": "markdown",
   "id": "pointed-calculator",
   "metadata": {},
   "source": [
    "##### 여기서부터는 hrv_100 데이터를 쓰도록 하자.\n",
    "- sub, disorder, visit 변수를 제거하였음(90 rows가 되었음)\n",
    "- 10 x 10 형태를 맞춰주기 위해서 null1~null10 rows 추가\n",
    "- 각 row별로 normalize해서 0~1사이로 값을 맞춰주었음"
   ]
  },
  {
   "cell_type": "code",
   "execution_count": 74,
   "id": "conservative-translator",
   "metadata": {},
   "outputs": [
    {
     "data": {
      "text/plain": [
       "(480, 25)"
      ]
     },
     "execution_count": 74,
     "metadata": {},
     "output_type": "execute_result"
    }
   ],
   "source": [
    "hrv_100.shape"
   ]
  },
  {
   "cell_type": "code",
   "execution_count": 75,
   "id": "unable-variable",
   "metadata": {},
   "outputs": [],
   "source": [
    "#값이 어떻게 표기되는지 x0를 통해서 확인해보자\n",
    "x0=hrv_100.loc[479].values"
   ]
  },
  {
   "cell_type": "code",
   "execution_count": 76,
   "id": "moving-characteristic",
   "metadata": {},
   "outputs": [
    {
     "data": {
      "text/plain": [
       "array([1.37931034e-01, 1.00000000e+00, 0.00000000e+00, 0.00000000e+00,\n",
       "       0.00000000e+00, 6.91176471e-01, 8.22115385e-01, 5.71428571e-01,\n",
       "       7.01754386e-01, 1.96078431e-01, 7.88732394e-01, 4.46428571e-01,\n",
       "       4.86074083e-02, 1.59999952e-01, 1.72848867e-01, 3.65651488e-02,\n",
       "       2.05490295e-03, 9.08065509e-04, 2.81334100e-03, 3.62337658e-02,\n",
       "       1.98344361e-03, 4.38234285e-01, 8.40441772e-01, 8.96940422e-03,\n",
       "       6.63117214e-01])"
      ]
     },
     "execution_count": 76,
     "metadata": {},
     "output_type": "execute_result"
    }
   ],
   "source": [
    "x0"
   ]
  },
  {
   "cell_type": "code",
   "execution_count": 77,
   "id": "precise-carnival",
   "metadata": {},
   "outputs": [],
   "source": [
    "# 10 x 10으로 reshape\n",
    "x0=x0.reshape(5,5)"
   ]
  },
  {
   "cell_type": "code",
   "execution_count": 78,
   "id": "rising-publisher",
   "metadata": {},
   "outputs": [],
   "source": [
    "# heatmap으로 체크해봄. 근데 heatmap보다 그냥 plt.imsho()써서 gray scale로 보는게 가독성 있을듯\n",
    "# x0 = sns.heatmap(x0)"
   ]
  },
  {
   "cell_type": "code",
   "execution_count": 79,
   "id": "lightweight-replica",
   "metadata": {},
   "outputs": [
    {
     "data": {
      "text/plain": [
       "<matplotlib.image.AxesImage at 0x2376289c908>"
      ]
     },
     "execution_count": 79,
     "metadata": {},
     "output_type": "execute_result"
    },
    {
     "data": {
      "image/png": "[encoded data removed]",
      "text/plain": [
       "<Figure size 432x288 with 1 Axes>"
      ]
     },
     "metadata": {
      "needs_background": "light"
     },
     "output_type": "display_data"
    }
   ],
   "source": [
    "#gray scale로 확인해보고\n",
    "plt.imshow(x0, cmap='gray')"
   ]
  },
  {
   "cell_type": "code",
   "execution_count": 80,
   "id": "caring-instrument",
   "metadata": {},
   "outputs": [
    {
     "data": {
      "text/plain": [
       "age       0.068966\n",
       "gender    0.000000\n",
       "HAMD      0.062500\n",
       "HAMA      0.054054\n",
       "PDSS      0.038462\n",
       "ASI       0.176471\n",
       "APPQ      0.105769\n",
       "PSWQ      0.362637\n",
       "SPI       0.087719\n",
       "PSS       0.098039\n",
       "BIS       0.633803\n",
       "SSI       0.017857\n",
       "sSDNN     0.081098\n",
       "sNN50     0.232000\n",
       "sPNN50    0.326410\n",
       "sRMSSD    0.050443\n",
       "sVLF      0.002134\n",
       "sLF       0.003175\n",
       "sHF       0.002404\n",
       "sLF/HF    0.139438\n",
       "sPOWER    0.003380\n",
       "sHR       0.169497\n",
       "sRESP     0.468542\n",
       "sSC       0.324185\n",
       "sTEMP     0.752054\n",
       "Name: 0, dtype: float64"
      ]
     },
     "execution_count": 80,
     "metadata": {},
     "output_type": "execute_result"
    }
   ],
   "source": [
    "hrv_100.loc[0] #확인했으니까 이제 우리 데이터를 가지고"
   ]
  },
  {
   "cell_type": "code",
   "execution_count": 81,
   "id": "cardiac-teacher",
   "metadata": {},
   "outputs": [
    {
     "data": {
      "text/plain": [
       "(480, 25)"
      ]
     },
     "execution_count": 81,
     "metadata": {},
     "output_type": "execute_result"
    }
   ],
   "source": [
    "hrv_100.shape"
   ]
  },
  {
   "cell_type": "code",
   "execution_count": 82,
   "id": "boolean-initial",
   "metadata": {},
   "outputs": [
    {
     "data": {
      "text/plain": [
       "(480, 25)"
      ]
     },
     "execution_count": 82,
     "metadata": {},
     "output_type": "execute_result"
    }
   ],
   "source": [
    "hrv_100_arr = hrv_100.values\n",
    "hrv_100_arr.shape"
   ]
  },
  {
   "cell_type": "code",
   "execution_count": 83,
   "id": "internal-active",
   "metadata": {},
   "outputs": [],
   "source": [
    "# array 형태로 479개 행에 대해서 10 x 10 reshape\n",
    "hrv_array = hrv_100_arr.reshape(480,5,5)"
   ]
  },
  {
   "cell_type": "code",
   "execution_count": 84,
   "id": "applicable-logistics",
   "metadata": {},
   "outputs": [
    {
     "data": {
      "text/plain": [
       "(480, 5, 5)"
      ]
     },
     "execution_count": 84,
     "metadata": {},
     "output_type": "execute_result"
    }
   ],
   "source": [
    "hrv_array.shape"
   ]
  },
  {
   "cell_type": "code",
   "execution_count": 85,
   "id": "julian-heart",
   "metadata": {},
   "outputs": [],
   "source": [
    "# data = pd.concat([hrv_100,hrv_target], axis=1)"
   ]
  },
  {
   "cell_type": "code",
   "execution_count": 86,
   "id": "israeli-bedroom",
   "metadata": {},
   "outputs": [],
   "source": [
    "np.save('E:/RESEARCH/Datasets/HRV_samsung/stress/y.npy', y)"
   ]
  },
  {
   "cell_type": "code",
   "execution_count": 87,
   "id": "valid-nudist",
   "metadata": {},
   "outputs": [],
   "source": [
    "np.save('E:/RESEARCH/Datasets/HRV_samsung/stress/x.npy', hrv_array)"
   ]
  },
  {
   "cell_type": "code",
   "execution_count": 88,
   "id": "expired-governor",
   "metadata": {},
   "outputs": [],
   "source": [
    "np.save('E:/RESEARCH/Datasets/HRV_samsung/stress/patient.npy', patient)"
   ]
  },
  {
   "cell_type": "code",
   "execution_count": null,
   "id": "perceived-accountability",
   "metadata": {},
   "outputs": [],
   "source": []
  },
  {
   "cell_type": "code",
   "execution_count": 89,
   "id": "needed-jersey",
   "metadata": {},
   "outputs": [],
   "source": [
    "xdata = np.load('E:/RESEARCH/Datasets/HRV_samsung/stress/x.npy')"
   ]
  },
  {
   "cell_type": "code",
   "execution_count": 90,
   "id": "combined-bhutan",
   "metadata": {},
   "outputs": [
    {
     "data": {
      "text/plain": [
       "array([[[6.89655172e-02, 0.00000000e+00, 6.25000000e-02, 5.40540541e-02,\n",
       "         3.84615385e-02],\n",
       "        [1.76470588e-01, 1.05769231e-01, 3.62637363e-01, 8.77192982e-02,\n",
       "         9.80392157e-02],\n",
       "        [6.33802817e-01, 1.78571429e-02, 8.10983949e-02, 2.31999814e-01,\n",
       "         3.26409738e-01],\n",
       "        [5.04428727e-02, 2.13408362e-03, 3.17540086e-03, 2.40447750e-03,\n",
       "         1.39438493e-01],\n",
       "        [3.38000089e-03, 1.69496955e-01, 4.68541897e-01, 3.24184689e-01,\n",
       "         7.52053590e-01]],\n",
       "\n",
       "       [[6.89655172e-02, 0.00000000e+00, 3.75000000e-01, 1.89189189e-01,\n",
       "         0.00000000e+00],\n",
       "        [1.76470588e-01, 1.15384615e-01, 4.06593407e-01, 1.05263158e-01,\n",
       "         1.37254902e-01],\n",
       "        [6.05633803e-01, 3.57142857e-02, 1.05671782e-01, 2.39999808e-01,\n",
       "         3.10089250e-01],\n",
       "        [8.09917890e-02, 1.00571272e-02, 1.13508185e-02, 2.59028448e-02,\n",
       "         9.23943999e-02],\n",
       "        [1.79084869e-02, 2.70710066e-01, 5.76329984e-01, 5.78093190e-01,\n",
       "         8.72753175e-01]],\n",
       "\n",
       "       [[3.27586207e-01, 0.00000000e+00, 4.37500000e-01, 4.59459459e-01,\n",
       "         5.38461538e-01],\n",
       "        [4.55882353e-01, 5.86538462e-01, 4.28571429e-01, 0.00000000e+00,\n",
       "         2.05882353e-01],\n",
       "        [7.04225352e-01, 1.07142857e-01, 3.18911850e-02, 0.00000000e+00,\n",
       "         0.00000000e+00],\n",
       "        [1.59067303e-02, 1.11294153e-03, 9.65980337e-04, 1.27263945e-03,\n",
       "         7.15209706e-02],\n",
       "        [1.31229656e-03, 5.75937290e-01, 6.87392422e-01, 6.24015673e-02,\n",
       "         8.88939408e-01]],\n",
       "\n",
       "       ...,\n",
       "\n",
       "       [[1.37931034e-01, 1.00000000e+00, 5.93750000e-01, 4.32432432e-01,\n",
       "         7.30769231e-01],\n",
       "        [6.61764706e-01, 7.25961538e-01, 5.27472527e-01, 6.31578947e-01,\n",
       "         1.86274510e-01],\n",
       "        [7.88732394e-01, 3.57142857e-01, 6.24179813e-01, 9.28000058e-01,\n",
       "         9.55489581e-01],\n",
       "        [6.49333388e-01, 2.20721227e-01, 3.63667803e-01, 4.39425057e-01,\n",
       "         6.82828491e-02],\n",
       "        [4.30050027e-01, 7.67898082e-01, 7.70671552e-01, 1.13029808e-01,\n",
       "         7.15495135e-01]],\n",
       "\n",
       "       [[1.37931034e-01, 1.00000000e+00, 4.68750000e-01, 3.24324324e-01,\n",
       "         7.69230769e-01],\n",
       "        [6.76470588e-01, 7.59615385e-01, 5.71428571e-01, 5.90643275e-01,\n",
       "         2.25490196e-01],\n",
       "        [7.74647887e-01, 3.21428571e-01, 6.86764421e-02, 1.11999990e-01,\n",
       "         1.26112927e-01],\n",
       "        [4.44652070e-02, 1.36969549e-03, 1.75664548e-03, 2.41294498e-03,\n",
       "         9.20790567e-02],\n",
       "        [2.24406894e-03, 3.93403621e-01, 7.14693428e-01, 2.96162563e-02,\n",
       "         6.86641811e-01]],\n",
       "\n",
       "       [[1.37931034e-01, 1.00000000e+00, 0.00000000e+00, 0.00000000e+00,\n",
       "         0.00000000e+00],\n",
       "        [6.91176471e-01, 8.22115385e-01, 5.71428571e-01, 7.01754386e-01,\n",
       "         1.96078431e-01],\n",
       "        [7.88732394e-01, 4.46428571e-01, 4.86074083e-02, 1.59999952e-01,\n",
       "         1.72848867e-01],\n",
       "        [3.65651488e-02, 2.05490295e-03, 9.08065509e-04, 2.81334100e-03,\n",
       "         3.62337658e-02],\n",
       "        [1.98344361e-03, 4.38234285e-01, 8.40441772e-01, 8.96940422e-03,\n",
       "         6.63117214e-01]]])"
      ]
     },
     "execution_count": 90,
     "metadata": {},
     "output_type": "execute_result"
    }
   ],
   "source": [
    "xdata"
   ]
  },
  {
   "cell_type": "code",
   "execution_count": null,
   "id": "fifteen-denver",
   "metadata": {},
   "outputs": [],
   "source": []
  },
  {
   "cell_type": "code",
   "execution_count": null,
   "id": "protecting-romania",
   "metadata": {},
   "outputs": [],
   "source": []
  },
  {
   "cell_type": "code",
   "execution_count": null,
   "id": "christian-bacon",
   "metadata": {},
   "outputs": [],
   "source": []
  },
  {
   "cell_type": "code",
   "execution_count": null,
   "id": "genuine-upper",
   "metadata": {},
   "outputs": [],
   "source": []
  }
 ],
 "metadata": {
  "kernelspec": {
   "display_name": "Python 3",
   "language": "python",
   "name": "python3"
  },
  "language_info": {
   "codemirror_mode": {
    "name": "ipython",
    "version": 3
   },
   "file_extension": ".py",
   "mimetype": "text/x-python",
   "name": "python",
   "nbconvert_exporter": "python",
   "pygments_lexer": "ipython3",
   "version": "3.7.10"
  }
 },
 "nbformat": 4,
 "nbformat_minor": 5
}
