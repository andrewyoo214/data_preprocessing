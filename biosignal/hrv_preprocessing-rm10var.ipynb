{
 "cells": [
  {
   "cell_type": "markdown",
   "id": "tropical-cosmetic",
   "metadata": {},
   "source": [
    "### HRV data preprocessing for FL research"
   ]
  },
  {
   "cell_type": "code",
   "execution_count": null,
   "id": "intermediate-hayes",
   "metadata": {},
   "outputs": [],
   "source": [
    "import pandas as pd\n",
    "import numpy as np\n",
    "import matplotlib.pyplot as plt\n",
    "import seaborn as sns\n",
    "# from PIL import Image"
   ]
  },
  {
   "cell_type": "code",
   "execution_count": null,
   "id": "monetary-cache",
   "metadata": {},
   "outputs": [],
   "source": [
    "# HRV 데이터셋 불러오기\n",
    "hrv_df = pd.read_csv('E:/RESEARCH/Datasets/HRV/HRV_samsung/HRV_REV_all.csv', sep=',')\n",
    "hrv_df.head()"
   ]
  },
  {
   "cell_type": "code",
   "execution_count": null,
   "id": "historical-proportion",
   "metadata": {},
   "outputs": [],
   "source": [
    "hrv_df.shape"
   ]
  },
  {
   "cell_type": "code",
   "execution_count": null,
   "id": "small-accreditation",
   "metadata": {},
   "outputs": [],
   "source": [
    "hrv_df['null1'] = 0\n",
    "hrv_df['null2'] = 0\n",
    "hrv_df['null3'] = 0\n",
    "hrv_df['null4'] = 0\n",
    "hrv_df['null5'] = 0\n",
    "hrv_df['null6'] = 0\n",
    "hrv_df['null7'] = 0\n",
    "hrv_df['null8'] = 0\n",
    "hrv_df['null9'] = 0\n",
    "hrv_df['null10'] = 0\n",
    "hrv_df['null11'] = 0\n",
    "hrv_df['null12'] = 0\n",
    "hrv_df['null13'] = 0\n",
    "hrv_df['null14'] = 0\n",
    "hrv_df['null15'] = 0\n",
    "hrv_df['null16'] = 0\n",
    "hrv_df['null17'] = 0\n",
    "hrv_df['null18'] = 0\n",
    "hrv_df['null19'] = 0\n",
    "hrv_df['null20'] = 0"
   ]
  },
  {
   "cell_type": "code",
   "execution_count": null,
   "id": "continuing-referral",
   "metadata": {},
   "outputs": [],
   "source": [
    "hrv_df.shape"
   ]
  },
  {
   "cell_type": "code",
   "execution_count": null,
   "id": "different-future",
   "metadata": {},
   "outputs": [],
   "source": [
    "#hrv data확인\n",
    "hrv_df.head()"
   ]
  },
  {
   "cell_type": "code",
   "execution_count": null,
   "id": "round-switzerland",
   "metadata": {},
   "outputs": [],
   "source": []
  },
  {
   "cell_type": "code",
   "execution_count": null,
   "id": "gorgeous-sensitivity",
   "metadata": {},
   "outputs": [],
   "source": [
    "#disorder, sub, Visit, 10개변수 값은 pixel에 넣지 않음. (총 13개 제거)\n",
    "hrv_100 = hrv_df.drop(['sub','disorder','VISIT','HAMD', 'HAMA','PDSS','ASI','APPQ','PSWQ','SPI','PSS','BIS','SSI'], axis=1)\n",
    "hrv_100.head()"
   ]
  },
  {
   "cell_type": "code",
   "execution_count": null,
   "id": "expressed-northeast",
   "metadata": {},
   "outputs": [],
   "source": [
    "# target을 disorder로 놓으면\n",
    "y = hrv_df.loc[:,['disorder']]"
   ]
  },
  {
   "cell_type": "code",
   "execution_count": null,
   "id": "saved-hostel",
   "metadata": {},
   "outputs": [],
   "source": [
    "# target을 HAMD로 놓으면\n",
    "# y1 = hrv_df.loc[:,['HAMD']]"
   ]
  },
  {
   "cell_type": "code",
   "execution_count": null,
   "id": "increased-score",
   "metadata": {},
   "outputs": [],
   "source": [
    "# target을 HAMA로 놓으면\n",
    "# y2 = hrv_df.loc[:,['HAMA']]"
   ]
  },
  {
   "cell_type": "code",
   "execution_count": null,
   "id": "failing-planner",
   "metadata": {},
   "outputs": [],
   "source": [
    "# target을 PDSS로 놓으면\n",
    "# y3 = hrv_df.loc[:,['PDSS']]"
   ]
  },
  {
   "cell_type": "code",
   "execution_count": null,
   "id": "earlier-showcase",
   "metadata": {},
   "outputs": [],
   "source": [
    "# target을 ASI로 놓으면\n",
    "# y4 = hrv_df.loc[:,['ASI']]"
   ]
  },
  {
   "cell_type": "code",
   "execution_count": null,
   "id": "sticky-package",
   "metadata": {},
   "outputs": [],
   "source": [
    "# target을 APPQ로 놓으면\n",
    "# y5 = hrv_df.loc[:,['APPQ']]"
   ]
  },
  {
   "cell_type": "code",
   "execution_count": null,
   "id": "filled-tiffany",
   "metadata": {},
   "outputs": [],
   "source": [
    "# target을 PSWQ로 놓으면\n",
    "# y6 = hrv_df.loc[:,['PSWQ']]"
   ]
  },
  {
   "cell_type": "code",
   "execution_count": null,
   "id": "electric-calcium",
   "metadata": {},
   "outputs": [],
   "source": [
    "# target을 SPI로 놓으면\n",
    "# y7 = hrv_df.loc[:,['SPI']]"
   ]
  },
  {
   "cell_type": "code",
   "execution_count": null,
   "id": "atlantic-chance",
   "metadata": {},
   "outputs": [],
   "source": [
    "# target을 PSS로 놓으면\n",
    "# y8 = hrv_df.loc[:,['PSS']]"
   ]
  },
  {
   "cell_type": "code",
   "execution_count": null,
   "id": "dressed-roulette",
   "metadata": {},
   "outputs": [],
   "source": [
    "# target을 BIS로 놓으면\n",
    "# y9 = hrv_df.loc[:,['BIS']]"
   ]
  },
  {
   "cell_type": "code",
   "execution_count": null,
   "id": "breathing-minneapolis",
   "metadata": {},
   "outputs": [],
   "source": [
    "# target을 SSI로 놓으면\n",
    "# y10 = hrv_df.loc[:,['SSI']]"
   ]
  },
  {
   "cell_type": "code",
   "execution_count": null,
   "id": "fifteen-raleigh",
   "metadata": {},
   "outputs": [],
   "source": [
    "# 환자만 따로 뽑으면\n",
    "patient = hrv_df.loc[:, ['sub']]"
   ]
  },
  {
   "cell_type": "code",
   "execution_count": null,
   "id": "patent-indiana",
   "metadata": {},
   "outputs": [],
   "source": []
  },
  {
   "cell_type": "code",
   "execution_count": null,
   "id": "diagnostic-heaven",
   "metadata": {},
   "outputs": [],
   "source": []
  },
  {
   "cell_type": "markdown",
   "id": "removable-hungary",
   "metadata": {},
   "source": [
    "*  이제 총 81개의 column으로 구성되었으니까 우선 normalization 하자 (0~1 사이 값으로 범위변환)"
   ]
  },
  {
   "cell_type": "code",
   "execution_count": null,
   "id": "determined-personal",
   "metadata": {},
   "outputs": [],
   "source": [
    "from sklearn.preprocessing import MinMaxScaler\n",
    "scaler = MinMaxScaler()\n",
    "hrv_100[:] = scaler.fit_transform(hrv_100[:])"
   ]
  },
  {
   "cell_type": "markdown",
   "id": "creative-store",
   "metadata": {},
   "source": [
    "* 만약에 평균0, 표준편차 1의 표준정규분포를 따르도록 변환하려면 아래와 같이 실행 (근데 이건 gender나 age변수에 대해서는 안좋음)"
   ]
  },
  {
   "cell_type": "code",
   "execution_count": null,
   "id": "refined-november",
   "metadata": {},
   "outputs": [],
   "source": [
    "# from sklearn.preprocessing import StandardScaler\n",
    "# stscaler = StandardScaler()\n",
    "# hrv_100[:] = stscaler.fit_transform(hrv_100[:])"
   ]
  },
  {
   "cell_type": "code",
   "execution_count": null,
   "id": "confident-glossary",
   "metadata": {},
   "outputs": [],
   "source": [
    "#normalize 제대로 되어 있는지 확인\n",
    "hrv_100.head()"
   ]
  },
  {
   "cell_type": "markdown",
   "id": "pointed-calculator",
   "metadata": {},
   "source": [
    "*  여기서부터는 hrv_81 데이터를 쓰도록 하자.\n",
    "- sub, disorder, visit, 10개주요 변수를 제거하였음(80 rows가 되었음)\n",
    "- 10 x 10 형태를 맞춰주기 위해서 null rows 추가\n",
    "- 각 row별로 normalize해서 0~1사이로 값을 맞춰주었음"
   ]
  },
  {
   "cell_type": "code",
   "execution_count": null,
   "id": "conservative-translator",
   "metadata": {},
   "outputs": [],
   "source": [
    "hrv_100.shape"
   ]
  },
  {
   "cell_type": "code",
   "execution_count": null,
   "id": "unable-variable",
   "metadata": {
    "tags": []
   },
   "outputs": [],
   "source": [
    "#값이 어떻게 표기되는지 x0를 통해서 확인해보자\n",
    "x0=hrv_100.loc[479].values"
   ]
  },
  {
   "cell_type": "code",
   "execution_count": null,
   "id": "moving-characteristic",
   "metadata": {},
   "outputs": [],
   "source": [
    "x0"
   ]
  },
  {
   "cell_type": "code",
   "execution_count": null,
   "id": "precise-carnival",
   "metadata": {},
   "outputs": [],
   "source": [
    "# 9 x 9으로 reshape\n",
    "x0=x0.reshape(10,10)"
   ]
  },
  {
   "cell_type": "code",
   "execution_count": null,
   "id": "rising-publisher",
   "metadata": {},
   "outputs": [],
   "source": [
    "# heatmap으로 체크해봄. 근데 heatmap보다 그냥 plt.imsho()써서 gray scale로 보는게 가독성 있을듯\n",
    "# x0 = sns.heatmap(x0)"
   ]
  },
  {
   "cell_type": "code",
   "execution_count": null,
   "id": "lightweight-replica",
   "metadata": {},
   "outputs": [],
   "source": [
    "#gray scale로 확인해보고\n",
    "plt.imshow(x0, cmap='gray')"
   ]
  },
  {
   "cell_type": "code",
   "execution_count": null,
   "id": "caring-instrument",
   "metadata": {},
   "outputs": [],
   "source": [
    "hrv_100.loc[0] #확인했으니까 이제 우리 데이터를 가지고"
   ]
  },
  {
   "cell_type": "code",
   "execution_count": null,
   "id": "cardiac-teacher",
   "metadata": {},
   "outputs": [],
   "source": [
    "hrv_100.shape"
   ]
  },
  {
   "cell_type": "code",
   "execution_count": null,
   "id": "boolean-initial",
   "metadata": {},
   "outputs": [],
   "source": [
    "hrv_100_arr = hrv_100.values\n",
    "hrv_100_arr.shape"
   ]
  },
  {
   "cell_type": "code",
   "execution_count": null,
   "id": "internal-active",
   "metadata": {},
   "outputs": [],
   "source": [
    "# array 형태로 480개 행에 대해서 9 x 9 reshape\n",
    "hrv_array = hrv_100_arr.reshape(480,10,10)"
   ]
  },
  {
   "cell_type": "code",
   "execution_count": null,
   "id": "applicable-logistics",
   "metadata": {},
   "outputs": [],
   "source": [
    "hrv_array.shape"
   ]
  },
  {
   "cell_type": "code",
   "execution_count": null,
   "id": "julian-heart",
   "metadata": {},
   "outputs": [],
   "source": [
    "# data = pd.concat([hrv_100,hrv_target], axis=1)"
   ]
  },
  {
   "cell_type": "code",
   "execution_count": null,
   "id": "israeli-bedroom",
   "metadata": {},
   "outputs": [],
   "source": [
    "np.save('E:/RESEARCH/Datasets/HRV_samsung/pracdata/y.npy', y)"
   ]
  },
  {
   "cell_type": "code",
   "execution_count": null,
   "id": "irish-campus",
   "metadata": {},
   "outputs": [],
   "source": [
    "# np.save('E:/RESEARCH/Datasets/HRV_samsung/pracdata/y1.npy', y1)"
   ]
  },
  {
   "cell_type": "code",
   "execution_count": null,
   "id": "discrete-element",
   "metadata": {},
   "outputs": [],
   "source": [
    "# np.save('E:/RESEARCH/Datasets/HRV_samsung/pracdata/y2.npy', y2)"
   ]
  },
  {
   "cell_type": "code",
   "execution_count": null,
   "id": "backed-exhibition",
   "metadata": {},
   "outputs": [],
   "source": [
    "# np.save('E:/RESEARCH/Datasets/HRV_samsung/pracdata/y3.npy', y3)"
   ]
  },
  {
   "cell_type": "code",
   "execution_count": null,
   "id": "shared-electric",
   "metadata": {},
   "outputs": [],
   "source": [
    "# np.save('E:/RESEARCH/Datasets/HRV_samsung/pracdata/y4.npy', y4)"
   ]
  },
  {
   "cell_type": "code",
   "execution_count": null,
   "id": "textile-positive",
   "metadata": {},
   "outputs": [],
   "source": [
    "# np.save('E:/RESEARCH/Datasets/HRV_samsung/pracdata/y5.npy', y5)"
   ]
  },
  {
   "cell_type": "code",
   "execution_count": null,
   "id": "russian-trunk",
   "metadata": {},
   "outputs": [],
   "source": [
    "# np.save('E:/RESEARCH/Datasets/HRV_samsung/pracdata/y6.npy', y6)"
   ]
  },
  {
   "cell_type": "code",
   "execution_count": null,
   "id": "casual-admission",
   "metadata": {},
   "outputs": [],
   "source": [
    "# np.save('E:/RESEARCH/Datasets/HRV_samsung/pracdata/y7.npy', y7)"
   ]
  },
  {
   "cell_type": "code",
   "execution_count": null,
   "id": "vulnerable-workshop",
   "metadata": {},
   "outputs": [],
   "source": [
    "# np.save('E:/RESEARCH/Datasets/HRV_samsung/pracdata/y8.npy', y8)"
   ]
  },
  {
   "cell_type": "code",
   "execution_count": null,
   "id": "minus-brand",
   "metadata": {},
   "outputs": [],
   "source": [
    "# np.save('E:/RESEARCH/Datasets/HRV_samsung/pracdata/y9.npy', y9)"
   ]
  },
  {
   "cell_type": "code",
   "execution_count": null,
   "id": "indian-footage",
   "metadata": {},
   "outputs": [],
   "source": [
    "# np.save('E:/RESEARCH/Datasets/HRV_samsung/pracdata/y10.npy', y10)"
   ]
  },
  {
   "cell_type": "code",
   "execution_count": null,
   "id": "precious-shanghai",
   "metadata": {},
   "outputs": [],
   "source": []
  },
  {
   "cell_type": "code",
   "execution_count": null,
   "id": "valid-nudist",
   "metadata": {},
   "outputs": [],
   "source": [
    "np.save('E:/RESEARCH/Datasets/HRV_samsung/pracdata/x.npy', hrv_array)"
   ]
  },
  {
   "cell_type": "code",
   "execution_count": null,
   "id": "expired-governor",
   "metadata": {},
   "outputs": [],
   "source": [
    "np.save('E:/RESEARCH/Datasets/HRV_samsung/pracdata/patient.npy', patient)"
   ]
  },
  {
   "cell_type": "code",
   "execution_count": null,
   "id": "perceived-accountability",
   "metadata": {},
   "outputs": [],
   "source": []
  },
  {
   "cell_type": "code",
   "execution_count": null,
   "id": "needed-jersey",
   "metadata": {},
   "outputs": [],
   "source": [
    "# 확인해보자\n",
    "xdata = np.load('E:/RESEARCH/Datasets/HRV_samsung/pracdata/x.npy')"
   ]
  },
  {
   "cell_type": "code",
   "execution_count": null,
   "id": "combined-bhutan",
   "metadata": {},
   "outputs": [],
   "source": [
    "xdata"
   ]
  },
  {
   "cell_type": "code",
   "execution_count": null,
   "id": "fifteen-denver",
   "metadata": {},
   "outputs": [],
   "source": [
    "xdata[0].shape"
   ]
  },
  {
   "cell_type": "code",
   "execution_count": null,
   "id": "protecting-romania",
   "metadata": {},
   "outputs": [],
   "source": []
  },
  {
   "cell_type": "code",
   "execution_count": null,
   "id": "christian-bacon",
   "metadata": {},
   "outputs": [],
   "source": []
  },
  {
   "cell_type": "code",
   "execution_count": null,
   "id": "2a50b186-a792-4bfe-ae1e-b6aa575c1fac",
   "metadata": {},
   "outputs": [],
   "source": []
  },
  {
   "cell_type": "code",
   "execution_count": null,
   "id": "c70beb66-fd7b-427a-b152-9deec3546b24",
   "metadata": {},
   "outputs": [],
   "source": []
  },
  {
   "cell_type": "code",
   "execution_count": null,
   "id": "48342a5c-0ef4-4176-8cc2-2b26cdd93631",
   "metadata": {},
   "outputs": [],
   "source": []
  },
  {
   "cell_type": "code",
   "execution_count": null,
   "id": "75e6a7ac-e9b2-4305-8359-4f46caa5326c",
   "metadata": {},
   "outputs": [],
   "source": [
    "hrv_100"
   ]
  },
  {
   "cell_type": "code",
   "execution_count": null,
   "id": "a0419dd6-f8fc-464d-8804-486146b36d9d",
   "metadata": {},
   "outputs": [],
   "source": [
    "b1SDNN = hrv_100['b1SDNN']\n",
    "b1NN50 = hrv_100['b1NN50']\n",
    "b1RMSSD = hrv_100['b1RMSSD']\n",
    "b1VLF = hrv_100['b1VLF']\n",
    "b1LF = hrv_100['b1LF']\n",
    "b1HF = hrv_100['b1HF']\n",
    "b1LFHF = hrv_100['b1LF/HF']\n",
    "b1POWER = hrv_100['b1POWER']\n",
    "b1PNN50 = hrv_100['b1PNN50']\n",
    "b1RESP = hrv_100['b1RESP']\n",
    "b1TEMP = hrv_100['b1TEMP']\n",
    "b1HR = hrv_100['b1HR']"
   ]
  },
  {
   "cell_type": "code",
   "execution_count": null,
   "id": "3cbaac05-9673-4137-b594-e6f593dc4bd1",
   "metadata": {},
   "outputs": [],
   "source": []
  },
  {
   "cell_type": "code",
   "execution_count": null,
   "id": "6e247221-3dda-451a-8fba-e72643308e0b",
   "metadata": {},
   "outputs": [],
   "source": [
    "plt.figure(figsize = (20,10))\n",
    "sns.set_style(\"whitegrid\")\n",
    "plt.grid(True)\n",
    "plt.xlabel('Standardized Variables',fontsize=20)\n",
    "plt.ylabel('Density',fontsize=20)\n",
    "\n",
    "sns.kdeplot(b1SDNN)\n",
    "sns.kdeplot(b1NN50)\n",
    "sns.kdeplot(b1RMSSD)\n",
    "# sns.kdeplot(b1VLF)\n",
    "sns.kdeplot(b1LF)\n",
    "# sns.kdeplot(b1HF)\n",
    "sns.kdeplot(b1LFHF)\n",
    "# sns.kdeplot(b1POWER)\n",
    "# sns.kdeplot(b1PNN50)\n",
    "sns.kdeplot(b1RESP)\n",
    "sns.kdeplot(b1TEMP)\n",
    "sns.kdeplot(b1HR)\n",
    "\n",
    "# plt.legend()\n",
    "plt.legend(['b1SDNN', 'b1NN50', 'b1RMSSD', 'b1LF', 'b1LF/HF', 'b1RESP', 'b1TEMP', 'b1HR'], fontsize=20)\n",
    "\n",
    "plt.savefig('distribution.png')"
   ]
  },
  {
   "cell_type": "code",
   "execution_count": null,
   "id": "176061ed-b042-41ad-a991-012baf279b90",
   "metadata": {},
   "outputs": [],
   "source": []
  },
  {
   "cell_type": "code",
   "execution_count": null,
   "id": "genuine-upper",
   "metadata": {},
   "outputs": [],
   "source": []
  }
 ],
 "metadata": {
  "kernelspec": {
   "display_name": "Python 3",
   "language": "python",
   "name": "python3"
  },
  "language_info": {
   "codemirror_mode": {
    "name": "ipython",
    "version": 3
   },
   "file_extension": ".py",
   "mimetype": "text/x-python",
   "name": "python",
   "nbconvert_exporter": "python",
   "pygments_lexer": "ipython3",
   "version": "3.8.10"
  },
  "toc-autonumbering": false,
  "toc-showcode": false,
  "toc-showmarkdowntxt": false,
  "toc-showtags": false
 },
 "nbformat": 4,
 "nbformat_minor": 5
}
